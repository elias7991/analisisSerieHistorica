{
 "cells": [
  {
   "cell_type": "markdown",
   "metadata": {},
   "source": [
    "# Visualización simple de datos en Python"
   ]
  },
  {
   "cell_type": "markdown",
   "metadata": {},
   "source": [
    "### Librerias utilizadas"
   ]
  },
  {
   "cell_type": "code",
   "execution_count": 1,
   "metadata": {},
   "outputs": [],
   "source": [
    "import pandas as pd\n",
    "import matplotlib.pyplot as plt"
   ]
  },
  {
   "cell_type": "markdown",
   "metadata": {},
   "source": [
    "### Dataset utilizado"
   ]
  },
  {
   "cell_type": "code",
   "execution_count": 2,
   "metadata": {},
   "outputs": [],
   "source": [
    "data = pd.read_csv(\"Serie historica (dic 2020).csv\", sep=\"\\t\")"
   ]
  },
  {
   "cell_type": "markdown",
   "metadata": {},
   "source": [
    "### Información sobre el dataset"
   ]
  },
  {
   "cell_type": "code",
   "execution_count": 3,
   "metadata": {},
   "outputs": [
    {
     "name": "stdout",
     "output_type": "stream",
     "text": [
      "<class 'pandas.core.frame.DataFrame'>\n",
      "RangeIndex: 428847 entries, 0 to 428846\n",
      "Data columns (total 17 columns):\n",
      " #   Column             Non-Null Count   Dtype \n",
      "---  ------             --------------   ----- \n",
      " 0   omm_id             428847 non-null  int64 \n",
      " 1   fecha              428847 non-null  object\n",
      " 2   tmax               428847 non-null  object\n",
      " 3   tmin               428847 non-null  object\n",
      " 4   tmed               428847 non-null  object\n",
      " 5   td                 428847 non-null  object\n",
      " 6   pres_est           428847 non-null  object\n",
      " 7   pres_nm            428847 non-null  object\n",
      " 8   prcp               428847 non-null  object\n",
      " 9   hr                 428847 non-null  object\n",
      " 10  helio              428847 non-null  object\n",
      " 11  nub                428847 non-null  object\n",
      " 12  vmax_d             428847 non-null  object\n",
      " 13  vmax_f             428847 non-null  object\n",
      " 14  vmed               428847 non-null  object\n",
      " 15  estado             428847 non-null  object\n",
      " 16  num_observaciones  428847 non-null  object\n",
      "dtypes: int64(1), object(16)\n",
      "memory usage: 55.6+ MB\n"
     ]
    }
   ],
   "source": [
    "data.info()"
   ]
  },
  {
   "cell_type": "markdown",
   "metadata": {},
   "source": [
    "#### ¿Qué contiene el dataset?"
   ]
  },
  {
   "cell_type": "code",
   "execution_count": 3,
   "metadata": {
    "scrolled": false
   },
   "outputs": [
    {
     "data": {
      "text/html": [
       "<div>\n",
       "<style scoped>\n",
       "    .dataframe tbody tr th:only-of-type {\n",
       "        vertical-align: middle;\n",
       "    }\n",
       "\n",
       "    .dataframe tbody tr th {\n",
       "        vertical-align: top;\n",
       "    }\n",
       "\n",
       "    .dataframe thead th {\n",
       "        text-align: right;\n",
       "    }\n",
       "</style>\n",
       "<table border=\"1\" class=\"dataframe\">\n",
       "  <thead>\n",
       "    <tr style=\"text-align: right;\">\n",
       "      <th></th>\n",
       "      <th>omm_id</th>\n",
       "      <th>fecha</th>\n",
       "      <th>tmax</th>\n",
       "      <th>tmin</th>\n",
       "      <th>tmed</th>\n",
       "      <th>td</th>\n",
       "      <th>pres_est</th>\n",
       "      <th>pres_nm</th>\n",
       "      <th>prcp</th>\n",
       "      <th>hr</th>\n",
       "      <th>helio</th>\n",
       "      <th>nub</th>\n",
       "      <th>vmax_d</th>\n",
       "      <th>vmax_f</th>\n",
       "      <th>vmed</th>\n",
       "      <th>estado</th>\n",
       "      <th>num_observaciones</th>\n",
       "    </tr>\n",
       "  </thead>\n",
       "  <tbody>\n",
       "    <tr>\n",
       "      <th>0</th>\n",
       "      <td>86011</td>\n",
       "      <td>1973-05-01</td>\n",
       "      <td>37.6</td>\n",
       "      <td>23.2</td>\n",
       "      <td>32.6</td>\n",
       "      <td>20.9</td>\n",
       "      <td>994</td>\n",
       "      <td>1013.9</td>\n",
       "      <td>0</td>\n",
       "      <td>53</td>\n",
       "      <td>8.6</td>\n",
       "      <td>4</td>\n",
       "      <td>36</td>\n",
       "      <td>14.41</td>\n",
       "      <td>9.65</td>\n",
       "      <td>R</td>\n",
       "      <td>\\N</td>\n",
       "    </tr>\n",
       "    <tr>\n",
       "      <th>1</th>\n",
       "      <td>86011</td>\n",
       "      <td>1973-05-02</td>\n",
       "      <td>31.9</td>\n",
       "      <td>23.5</td>\n",
       "      <td>27</td>\n",
       "      <td>21.5</td>\n",
       "      <td>996.3</td>\n",
       "      <td>1013.2</td>\n",
       "      <td>0.5</td>\n",
       "      <td>73</td>\n",
       "      <td>2.1</td>\n",
       "      <td>7</td>\n",
       "      <td>18</td>\n",
       "      <td>12.35</td>\n",
       "      <td>9.78</td>\n",
       "      <td>V</td>\n",
       "      <td>\\N</td>\n",
       "    </tr>\n",
       "    <tr>\n",
       "      <th>2</th>\n",
       "      <td>86011</td>\n",
       "      <td>1973-05-03</td>\n",
       "      <td>18.5</td>\n",
       "      <td>15.5</td>\n",
       "      <td>17</td>\n",
       "      <td>10.3</td>\n",
       "      <td>1006.5</td>\n",
       "      <td>1007.8</td>\n",
       "      <td>0</td>\n",
       "      <td>65</td>\n",
       "      <td>0</td>\n",
       "      <td>8</td>\n",
       "      <td>18</td>\n",
       "      <td>12.35</td>\n",
       "      <td>9.14</td>\n",
       "      <td>V</td>\n",
       "      <td>\\N</td>\n",
       "    </tr>\n",
       "    <tr>\n",
       "      <th>3</th>\n",
       "      <td>86011</td>\n",
       "      <td>1973-05-04</td>\n",
       "      <td>22.4</td>\n",
       "      <td>15.4</td>\n",
       "      <td>20</td>\n",
       "      <td>15</td>\n",
       "      <td>1003.8</td>\n",
       "      <td>1009.1</td>\n",
       "      <td>0</td>\n",
       "      <td>73</td>\n",
       "      <td>0</td>\n",
       "      <td>7</td>\n",
       "      <td>18</td>\n",
       "      <td>2.06</td>\n",
       "      <td>1.8</td>\n",
       "      <td>V</td>\n",
       "      <td>\\N</td>\n",
       "    </tr>\n",
       "    <tr>\n",
       "      <th>4</th>\n",
       "      <td>86011</td>\n",
       "      <td>1973-05-05</td>\n",
       "      <td>30.3</td>\n",
       "      <td>17.1</td>\n",
       "      <td>24.4</td>\n",
       "      <td>18.4</td>\n",
       "      <td>1001</td>\n",
       "      <td>1020.5</td>\n",
       "      <td>0</td>\n",
       "      <td>70</td>\n",
       "      <td>7.5</td>\n",
       "      <td>5</td>\n",
       "      <td>9</td>\n",
       "      <td>6.69</td>\n",
       "      <td>2.7</td>\n",
       "      <td>V</td>\n",
       "      <td>\\N</td>\n",
       "    </tr>\n",
       "    <tr>\n",
       "      <th>5</th>\n",
       "      <td>86011</td>\n",
       "      <td>1973-05-06</td>\n",
       "      <td>31.2</td>\n",
       "      <td>19.4</td>\n",
       "      <td>26.1</td>\n",
       "      <td>21.6</td>\n",
       "      <td>1000.4</td>\n",
       "      <td>1016.7</td>\n",
       "      <td>0</td>\n",
       "      <td>77</td>\n",
       "      <td>2.8</td>\n",
       "      <td>7</td>\n",
       "      <td>23</td>\n",
       "      <td>7.72</td>\n",
       "      <td>3.6</td>\n",
       "      <td>V</td>\n",
       "      <td>\\N</td>\n",
       "    </tr>\n",
       "    <tr>\n",
       "      <th>6</th>\n",
       "      <td>86011</td>\n",
       "      <td>1973-05-07</td>\n",
       "      <td>23.4</td>\n",
       "      <td>19.2</td>\n",
       "      <td>21.7</td>\n",
       "      <td>18.9</td>\n",
       "      <td>1001.5</td>\n",
       "      <td>1014.6</td>\n",
       "      <td>0</td>\n",
       "      <td>85</td>\n",
       "      <td>0</td>\n",
       "      <td>8</td>\n",
       "      <td>23</td>\n",
       "      <td>6.69</td>\n",
       "      <td>4.51</td>\n",
       "      <td>V</td>\n",
       "      <td>\\N</td>\n",
       "    </tr>\n",
       "    <tr>\n",
       "      <th>7</th>\n",
       "      <td>86011</td>\n",
       "      <td>1973-05-08</td>\n",
       "      <td>32.8</td>\n",
       "      <td>18.7</td>\n",
       "      <td>27.3</td>\n",
       "      <td>19.8</td>\n",
       "      <td>996.5</td>\n",
       "      <td>1009.1</td>\n",
       "      <td>0</td>\n",
       "      <td>66</td>\n",
       "      <td>5.3</td>\n",
       "      <td>6</td>\n",
       "      <td>6</td>\n",
       "      <td>8.24</td>\n",
       "      <td>5.02</td>\n",
       "      <td>V</td>\n",
       "      <td>\\N</td>\n",
       "    </tr>\n",
       "    <tr>\n",
       "      <th>8</th>\n",
       "      <td>86011</td>\n",
       "      <td>1973-05-09</td>\n",
       "      <td>30.6</td>\n",
       "      <td>20.4</td>\n",
       "      <td>26.4</td>\n",
       "      <td>21.7</td>\n",
       "      <td>998.6</td>\n",
       "      <td>1011.4</td>\n",
       "      <td>0</td>\n",
       "      <td>77</td>\n",
       "      <td>1.8</td>\n",
       "      <td>7</td>\n",
       "      <td>27</td>\n",
       "      <td>12.35</td>\n",
       "      <td>8.24</td>\n",
       "      <td>V</td>\n",
       "      <td>\\N</td>\n",
       "    </tr>\n",
       "    <tr>\n",
       "      <th>9</th>\n",
       "      <td>86011</td>\n",
       "      <td>1973-05-10</td>\n",
       "      <td>24.8</td>\n",
       "      <td>19.8</td>\n",
       "      <td>22.5</td>\n",
       "      <td>18.4</td>\n",
       "      <td>1002.4</td>\n",
       "      <td>1015.5</td>\n",
       "      <td>0</td>\n",
       "      <td>78</td>\n",
       "      <td>0.4</td>\n",
       "      <td>8</td>\n",
       "      <td>18</td>\n",
       "      <td>11.33</td>\n",
       "      <td>8.11</td>\n",
       "      <td>R</td>\n",
       "      <td>\\N</td>\n",
       "    </tr>\n",
       "  </tbody>\n",
       "</table>\n",
       "</div>"
      ],
      "text/plain": [
       "   omm_id       fecha  tmax  tmin  tmed    td pres_est pres_nm prcp  hr helio  \\\n",
       "0   86011  1973-05-01  37.6  23.2  32.6  20.9      994  1013.9    0  53   8.6   \n",
       "1   86011  1973-05-02  31.9  23.5    27  21.5    996.3  1013.2  0.5  73   2.1   \n",
       "2   86011  1973-05-03  18.5  15.5    17  10.3   1006.5  1007.8    0  65     0   \n",
       "3   86011  1973-05-04  22.4  15.4    20    15   1003.8  1009.1    0  73     0   \n",
       "4   86011  1973-05-05  30.3  17.1  24.4  18.4     1001  1020.5    0  70   7.5   \n",
       "5   86011  1973-05-06  31.2  19.4  26.1  21.6   1000.4  1016.7    0  77   2.8   \n",
       "6   86011  1973-05-07  23.4  19.2  21.7  18.9   1001.5  1014.6    0  85     0   \n",
       "7   86011  1973-05-08  32.8  18.7  27.3  19.8    996.5  1009.1    0  66   5.3   \n",
       "8   86011  1973-05-09  30.6  20.4  26.4  21.7    998.6  1011.4    0  77   1.8   \n",
       "9   86011  1973-05-10  24.8  19.8  22.5  18.4   1002.4  1015.5    0  78   0.4   \n",
       "\n",
       "  nub vmax_d vmax_f  vmed estado num_observaciones  \n",
       "0   4     36  14.41  9.65      R                \\N  \n",
       "1   7     18  12.35  9.78      V                \\N  \n",
       "2   8     18  12.35  9.14      V                \\N  \n",
       "3   7     18   2.06   1.8      V                \\N  \n",
       "4   5      9   6.69   2.7      V                \\N  \n",
       "5   7     23   7.72   3.6      V                \\N  \n",
       "6   8     23   6.69  4.51      V                \\N  \n",
       "7   6      6   8.24  5.02      V                \\N  \n",
       "8   7     27  12.35  8.24      V                \\N  \n",
       "9   8     18  11.33  8.11      R                \\N  "
      ]
     },
     "execution_count": 3,
     "metadata": {},
     "output_type": "execute_result"
    }
   ],
   "source": [
    "data.head(10)"
   ]
  },
  {
   "cell_type": "markdown",
   "metadata": {},
   "source": [
    "#### Diccionario de datos\n",
    "\n",
    "- omm_id: identificador de estación, 86218(Asunción) 86297(Encarnación) 86233(Villarrica) 86246(Alto Paraná)\n",
    "- fecha: fecha de la medición\n",
    "- tmax: temperatura máxima del día\n",
    "- tmin: temperatura mínima del día\n",
    "- tmed: temperatura media (promedio) del día\n",
    "- td: temperatura del punto de rocio (saturación del aire)\n",
    "- pres_est: presión medida en la estación\n",
    "- pres_nm: presión al nivel del mar\n",
    "- prcp: precipitación\n",
    "- hr: humedad relativa\n",
    "- helio: horas de radiación solar\n",
    "- nub: nubosidad (medida en octavos, como se parte en 8)\n",
    "- vmax_d: dirección de la velocidad máxima \n",
    "- vmax_f: velocidad máxima medida\n",
    "- vmed: velocidad media \n",
    "- estado: \n",
    "- num_obersvaciones: por día \\N significa dato faltante"
   ]
  },
  {
   "cell_type": "markdown",
   "metadata": {},
   "source": [
    "#### ¿Qué puedo analizar?"
   ]
  },
  {
   "cell_type": "markdown",
   "metadata": {},
   "source": [
    "- td y tmed: que tan húmedo esta el ambiente. Mientras mas cerca esta el punto de rocio de la temperatura media más humedo es.\n",
    "- presion con tmax: masa de aire fria o caliente.\n",
    "- analisis de años lluviosos o secos."
   ]
  },
  {
   "cell_type": "markdown",
   "metadata": {},
   "source": [
    "### Conversión de tipos de datos de las columnas del dataframe"
   ]
  },
  {
   "cell_type": "code",
   "execution_count": 3,
   "metadata": {},
   "outputs": [],
   "source": [
    "# aqui convertimos la columna fecha al tipo datetime\n",
    "data[\"fecha\"] = pd.to_datetime(data[\"fecha\"], format='%Y-%m-%d')\n",
    "\n",
    "# aqui convertimos la columna tmax al tipo numerico\n",
    "data[\"tmax\"] = pd.to_numeric(data[\"tmax\"], errors='coerce')\n",
    "\n",
    "# aqui convertimos la columna tmin al tipo numerico\n",
    "data[\"tmin\"] = pd.to_numeric(data[\"tmin\"], errors='coerce')\n",
    "\n",
    "# aqui convertimos la columna tmed al tipo numerico\n",
    "data[\"tmed\"] = pd.to_numeric(data[\"tmed\"], errors='coerce')\n",
    "\n",
    "# aqui convertimos la columna td al tipo numerico\n",
    "data[\"td\"] = pd.to_numeric(data[\"td\"], errors='coerce')\n",
    "\n",
    "# aqui convertimos la columna pres_est al tipo numerico\n",
    "data[\"pres_est\"] = pd.to_numeric(data[\"pres_est\"], errors='coerce')\n",
    "\n",
    "# aqui convertimos la columna pres_nm al tipo numerico\n",
    "data[\"pres_nm\"] = pd.to_numeric(data[\"pres_nm\"], errors='coerce')\n",
    "\n",
    "# aqui convertimos la columna prcp al tipo numerico\n",
    "data[\"prcp\"] = pd.to_numeric(data[\"prcp\"], errors='coerce')\n",
    "\n",
    "# aqui convertimos la columna hr al tipo numerico\n",
    "data[\"hr\"] = pd.to_numeric(data[\"hr\"], errors='coerce')\n",
    "\n",
    "# aqui convertimos la columna helio al tipo numerico\n",
    "data[\"helio\"] = pd.to_numeric(data[\"helio\"], errors='coerce')\n",
    "\n",
    "# aqui convertimos la columna nub al tipo numerico\n",
    "data[\"nub\"] = pd.to_numeric(data[\"nub\"], errors='coerce')\n",
    "\n",
    "# aqui convertimos la columna vmax_d al tipo numerico\n",
    "data[\"vmax_d\"] = pd.to_numeric(data[\"vmax_d\"], errors='coerce')\n",
    "\n",
    "# aqui convertimos la columna vmax_d al tipo numerico\n",
    "data[\"vmax_f\"] = pd.to_numeric(data[\"vmax_f\"], errors='coerce')\n",
    "\n",
    "# aqui convertimos la columna vmed al tipo numerico\n",
    "data[\"vmed\"] = pd.to_numeric(data[\"vmed\"], errors='coerce')\n",
    "\n",
    "# aqui convertimos la columna num_observaciones al tipo numerico\n",
    "data[\"num_observaciones\"] = pd.to_numeric(data[\"num_observaciones\"], errors='coerce')"
   ]
  },
  {
   "cell_type": "markdown",
   "metadata": {},
   "source": [
    "### Información sobre el dataset ya manipulado"
   ]
  },
  {
   "cell_type": "code",
   "execution_count": 9,
   "metadata": {},
   "outputs": [
    {
     "name": "stdout",
     "output_type": "stream",
     "text": [
      "<class 'pandas.core.frame.DataFrame'>\n",
      "RangeIndex: 428847 entries, 0 to 428846\n",
      "Data columns (total 17 columns):\n",
      " #   Column             Non-Null Count   Dtype  \n",
      "---  ------             --------------   -----  \n",
      " 0   omm_id             428847 non-null  int64  \n",
      " 1   fecha              428847 non-null  object \n",
      " 2   tmax               390713 non-null  float64\n",
      " 3   tmin               391940 non-null  float64\n",
      " 4   tmed               388087 non-null  float64\n",
      " 5   td                 387643 non-null  float64\n",
      " 6   pres_est           340760 non-null  float64\n",
      " 7   pres_nm            324859 non-null  float64\n",
      " 8   prcp               389557 non-null  float64\n",
      " 9   hr                 387640 non-null  float64\n",
      " 10  helio              211920 non-null  float64\n",
      " 11  nub                377853 non-null  float64\n",
      " 12  vmax_d             293262 non-null  float64\n",
      " 13  vmax_f             293266 non-null  float64\n",
      " 14  vmed               293252 non-null  float64\n",
      " 15  estado             428847 non-null  object \n",
      " 16  num_observaciones  49888 non-null   float64\n",
      "dtypes: float64(14), int64(1), object(2)\n",
      "memory usage: 55.6+ MB\n"
     ]
    }
   ],
   "source": [
    "data.info()"
   ]
  },
  {
   "cell_type": "markdown",
   "metadata": {},
   "source": [
    "### Breve descripción del dataset"
   ]
  },
  {
   "cell_type": "code",
   "execution_count": 10,
   "metadata": {
    "scrolled": false
   },
   "outputs": [
    {
     "data": {
      "text/html": [
       "<div>\n",
       "<style scoped>\n",
       "    .dataframe tbody tr th:only-of-type {\n",
       "        vertical-align: middle;\n",
       "    }\n",
       "\n",
       "    .dataframe tbody tr th {\n",
       "        vertical-align: top;\n",
       "    }\n",
       "\n",
       "    .dataframe thead th {\n",
       "        text-align: right;\n",
       "    }\n",
       "</style>\n",
       "<table border=\"1\" class=\"dataframe\">\n",
       "  <thead>\n",
       "    <tr style=\"text-align: right;\">\n",
       "      <th></th>\n",
       "      <th>omm_id</th>\n",
       "      <th>tmax</th>\n",
       "      <th>tmin</th>\n",
       "      <th>tmed</th>\n",
       "      <th>td</th>\n",
       "      <th>pres_est</th>\n",
       "      <th>pres_nm</th>\n",
       "      <th>prcp</th>\n",
       "      <th>hr</th>\n",
       "      <th>helio</th>\n",
       "      <th>nub</th>\n",
       "      <th>vmax_d</th>\n",
       "      <th>vmax_f</th>\n",
       "      <th>vmed</th>\n",
       "      <th>num_observaciones</th>\n",
       "    </tr>\n",
       "  </thead>\n",
       "  <tbody>\n",
       "    <tr>\n",
       "      <th>count</th>\n",
       "      <td>428847.000000</td>\n",
       "      <td>390713.000000</td>\n",
       "      <td>391940.000000</td>\n",
       "      <td>388087.000000</td>\n",
       "      <td>387643.000000</td>\n",
       "      <td>340760.000000</td>\n",
       "      <td>324859.000000</td>\n",
       "      <td>389557.000000</td>\n",
       "      <td>387640.000000</td>\n",
       "      <td>211920.000000</td>\n",
       "      <td>377853.000000</td>\n",
       "      <td>293262.000000</td>\n",
       "      <td>293266.000000</td>\n",
       "      <td>293252.000000</td>\n",
       "      <td>49888.000000</td>\n",
       "    </tr>\n",
       "    <tr>\n",
       "      <th>mean</th>\n",
       "      <td>86184.646091</td>\n",
       "      <td>28.920891</td>\n",
       "      <td>17.442551</td>\n",
       "      <td>22.555293</td>\n",
       "      <td>17.188291</td>\n",
       "      <td>993.806605</td>\n",
       "      <td>1012.481767</td>\n",
       "      <td>4.016828</td>\n",
       "      <td>74.658056</td>\n",
       "      <td>6.699108</td>\n",
       "      <td>3.941038</td>\n",
       "      <td>16.284295</td>\n",
       "      <td>4.312384</td>\n",
       "      <td>2.515295</td>\n",
       "      <td>3.917555</td>\n",
       "    </tr>\n",
       "    <tr>\n",
       "      <th>std</th>\n",
       "      <td>85.997256</td>\n",
       "      <td>5.829077</td>\n",
       "      <td>5.446725</td>\n",
       "      <td>5.294685</td>\n",
       "      <td>4.879138</td>\n",
       "      <td>15.754943</td>\n",
       "      <td>11.485438</td>\n",
       "      <td>12.502003</td>\n",
       "      <td>12.178979</td>\n",
       "      <td>4.064366</td>\n",
       "      <td>2.628636</td>\n",
       "      <td>10.828083</td>\n",
       "      <td>2.922404</td>\n",
       "      <td>1.882800</td>\n",
       "      <td>0.304578</td>\n",
       "    </tr>\n",
       "    <tr>\n",
       "      <th>min</th>\n",
       "      <td>86011.000000</td>\n",
       "      <td>5.000000</td>\n",
       "      <td>-7.500000</td>\n",
       "      <td>1.700000</td>\n",
       "      <td>-5.800000</td>\n",
       "      <td>683.000000</td>\n",
       "      <td>13.800000</td>\n",
       "      <td>0.000000</td>\n",
       "      <td>17.000000</td>\n",
       "      <td>0.000000</td>\n",
       "      <td>0.000000</td>\n",
       "      <td>0.000000</td>\n",
       "      <td>0.000000</td>\n",
       "      <td>0.000000</td>\n",
       "      <td>1.000000</td>\n",
       "    </tr>\n",
       "    <tr>\n",
       "      <th>25%</th>\n",
       "      <td>86097.000000</td>\n",
       "      <td>25.200000</td>\n",
       "      <td>14.200000</td>\n",
       "      <td>19.400000</td>\n",
       "      <td>14.400000</td>\n",
       "      <td>989.900000</td>\n",
       "      <td>1009.000000</td>\n",
       "      <td>0.000000</td>\n",
       "      <td>67.000000</td>\n",
       "      <td>3.000000</td>\n",
       "      <td>2.000000</td>\n",
       "      <td>6.000000</td>\n",
       "      <td>2.580000</td>\n",
       "      <td>1.160000</td>\n",
       "      <td>4.000000</td>\n",
       "    </tr>\n",
       "    <tr>\n",
       "      <th>50%</th>\n",
       "      <td>86218.000000</td>\n",
       "      <td>30.000000</td>\n",
       "      <td>18.500000</td>\n",
       "      <td>23.400000</td>\n",
       "      <td>18.100000</td>\n",
       "      <td>997.100000</td>\n",
       "      <td>1012.000000</td>\n",
       "      <td>0.000000</td>\n",
       "      <td>76.000000</td>\n",
       "      <td>8.000000</td>\n",
       "      <td>4.000000</td>\n",
       "      <td>15.000000</td>\n",
       "      <td>4.100000</td>\n",
       "      <td>2.060000</td>\n",
       "      <td>4.000000</td>\n",
       "    </tr>\n",
       "    <tr>\n",
       "      <th>75%</th>\n",
       "      <td>86255.000000</td>\n",
       "      <td>33.200000</td>\n",
       "      <td>21.500000</td>\n",
       "      <td>26.400000</td>\n",
       "      <td>21.000000</td>\n",
       "      <td>1002.500000</td>\n",
       "      <td>1015.800000</td>\n",
       "      <td>0.200000</td>\n",
       "      <td>84.000000</td>\n",
       "      <td>10.000000</td>\n",
       "      <td>6.000000</td>\n",
       "      <td>23.000000</td>\n",
       "      <td>6.100000</td>\n",
       "      <td>3.350000</td>\n",
       "      <td>4.000000</td>\n",
       "    </tr>\n",
       "    <tr>\n",
       "      <th>max</th>\n",
       "      <td>86297.000000</td>\n",
       "      <td>45.000000</td>\n",
       "      <td>31.800000</td>\n",
       "      <td>40.000000</td>\n",
       "      <td>267.800000</td>\n",
       "      <td>1194.600000</td>\n",
       "      <td>1320.800000</td>\n",
       "      <td>268.000000</td>\n",
       "      <td>100.000000</td>\n",
       "      <td>21.000000</td>\n",
       "      <td>20.000000</td>\n",
       "      <td>36.000000</td>\n",
       "      <td>49.300000</td>\n",
       "      <td>18.790000</td>\n",
       "      <td>4.000000</td>\n",
       "    </tr>\n",
       "  </tbody>\n",
       "</table>\n",
       "</div>"
      ],
      "text/plain": [
       "              omm_id           tmax           tmin           tmed  \\\n",
       "count  428847.000000  390713.000000  391940.000000  388087.000000   \n",
       "mean    86184.646091      28.920891      17.442551      22.555293   \n",
       "std        85.997256       5.829077       5.446725       5.294685   \n",
       "min     86011.000000       5.000000      -7.500000       1.700000   \n",
       "25%     86097.000000      25.200000      14.200000      19.400000   \n",
       "50%     86218.000000      30.000000      18.500000      23.400000   \n",
       "75%     86255.000000      33.200000      21.500000      26.400000   \n",
       "max     86297.000000      45.000000      31.800000      40.000000   \n",
       "\n",
       "                  td       pres_est        pres_nm           prcp  \\\n",
       "count  387643.000000  340760.000000  324859.000000  389557.000000   \n",
       "mean       17.188291     993.806605    1012.481767       4.016828   \n",
       "std         4.879138      15.754943      11.485438      12.502003   \n",
       "min        -5.800000     683.000000      13.800000       0.000000   \n",
       "25%        14.400000     989.900000    1009.000000       0.000000   \n",
       "50%        18.100000     997.100000    1012.000000       0.000000   \n",
       "75%        21.000000    1002.500000    1015.800000       0.200000   \n",
       "max       267.800000    1194.600000    1320.800000     268.000000   \n",
       "\n",
       "                  hr          helio            nub         vmax_d  \\\n",
       "count  387640.000000  211920.000000  377853.000000  293262.000000   \n",
       "mean       74.658056       6.699108       3.941038      16.284295   \n",
       "std        12.178979       4.064366       2.628636      10.828083   \n",
       "min        17.000000       0.000000       0.000000       0.000000   \n",
       "25%        67.000000       3.000000       2.000000       6.000000   \n",
       "50%        76.000000       8.000000       4.000000      15.000000   \n",
       "75%        84.000000      10.000000       6.000000      23.000000   \n",
       "max       100.000000      21.000000      20.000000      36.000000   \n",
       "\n",
       "              vmax_f           vmed  num_observaciones  \n",
       "count  293266.000000  293252.000000       49888.000000  \n",
       "mean        4.312384       2.515295           3.917555  \n",
       "std         2.922404       1.882800           0.304578  \n",
       "min         0.000000       0.000000           1.000000  \n",
       "25%         2.580000       1.160000           4.000000  \n",
       "50%         4.100000       2.060000           4.000000  \n",
       "75%         6.100000       3.350000           4.000000  \n",
       "max        49.300000      18.790000           4.000000  "
      ]
     },
     "execution_count": 10,
     "metadata": {},
     "output_type": "execute_result"
    }
   ],
   "source": [
    "data.describe()"
   ]
  },
  {
   "cell_type": "markdown",
   "metadata": {},
   "source": [
    "- #### Contar registros de una tabla es posible mediante:\n",
    "\n",
    "`data[\"nombre_columna\"].count()`\n",
    "\n",
    "[count](https://pandas.pydata.org/docs/reference/api/pandas.DataFrame.count.html)\n",
    "\n",
    "- #### Calcular el promedio de una columna es posible mediante:\n",
    "\n",
    "`data[\"nombre_columna\"].mean()`\n",
    "\n",
    "[mean](https://pandas.pydata.org/docs/reference/api/pandas.DataFrame.mean.html)\n",
    "\n",
    "- #### Calcular la desviación estándar de la columna:\n",
    "\n",
    "`data[\"nombre_columna\"].std()`\n",
    "\n",
    "[std](https://pandas.pydata.org/docs/reference/api/pandas.DataFrame.std.html)\n",
    "\n",
    "- #### Calcular el menor valor de una columna:\n",
    "\n",
    "`data[\"nombre_columna].min()`\n",
    "\n",
    "[min](https://pandas.pydata.org/docs/reference/api/pandas.DataFrame.min.html)\n",
    "\n",
    "- #### Calcular el mayor valor de una columna:\n",
    "\n",
    "`data[\"nombre_columna\"].max()`\n",
    "\n",
    "[max](https://pandas.pydata.org/docs/reference/api/pandas.DataFrame.max.html)\n",
    "\n",
    "- #### Calcular los distintos cuartiles de una columna:\n",
    "\n",
    "`data[\"nombre_columna\"].quantile(cuartil_como_decimal)`\n",
    "\n",
    "[cuartiles](https://pandas.pydata.org/docs/reference/api/pandas.DataFrame.quantile.html)\n",
    "\n",
    "- #### Calcular la mediana de una columna:\n",
    "\n",
    "`data[\"nombre_columna\"].median()`\n",
    "\n",
    "[mediana](https://pandas.pydata.org/docs/reference/api/pandas.DataFrame.median.html)"
   ]
  },
  {
   "cell_type": "markdown",
   "metadata": {},
   "source": [
    "#### Buscamos los valores no nulos por columna en el dataset"
   ]
  },
  {
   "cell_type": "code",
   "execution_count": 5,
   "metadata": {
    "scrolled": false
   },
   "outputs": [
    {
     "data": {
      "text/plain": [
       "omm_id               428847\n",
       "fecha                428847\n",
       "tmax                 428847\n",
       "tmin                 428847\n",
       "tmed                 428847\n",
       "td                   428847\n",
       "pres_est             428847\n",
       "pres_nm              428847\n",
       "prcp                 428847\n",
       "hr                   428847\n",
       "helio                428847\n",
       "nub                  428847\n",
       "vmax_d               428847\n",
       "vmax_f               428847\n",
       "vmed                 428847\n",
       "estado               428847\n",
       "num_observaciones    428847\n",
       "dtype: int64"
      ]
     },
     "execution_count": 5,
     "metadata": {},
     "output_type": "execute_result"
    }
   ],
   "source": [
    "data.count()"
   ]
  },
  {
   "cell_type": "markdown",
   "metadata": {},
   "source": [
    "### Análisis de correlación de Pearson"
   ]
  },
  {
   "cell_type": "markdown",
   "metadata": {},
   "source": [
    "Primero veremos si los gráficos de dispersión son significativos"
   ]
  },
  {
   "cell_type": "markdown",
   "metadata": {},
   "source": [
    "Para buena práctica siempre es bueno corroborar los gráficos x vs y e y vs x."
   ]
  },
  {
   "cell_type": "markdown",
   "metadata": {},
   "source": [
    "#### temperatura máxima vs temperatura del punto de rocio"
   ]
  },
  {
   "cell_type": "code",
   "execution_count": 64,
   "metadata": {},
   "outputs": [
    {
     "data": {
      "text/plain": [
       "<AxesSubplot:xlabel='tmax', ylabel='td'>"
      ]
     },
     "execution_count": 64,
     "metadata": {},
     "output_type": "execute_result"
    },
    {
     "data": {
      "image/png": "[encoded data removed]",
      "text/plain": [
       "<Figure size 864x432 with 1 Axes>"
      ]
     },
     "metadata": {
      "needs_background": "light"
     },
     "output_type": "display_data"
    }
   ],
   "source": [
    "data.plot.scatter(x='tmax', y='td', figsize=(12,6))"
   ]
  },
  {
   "cell_type": "markdown",
   "metadata": {},
   "source": [
    "El gráfico de dispersión nos da la impresión de que existe una relación lineal entre las variables que comprobaremos mediante el uso de la matriz de correlación de Pearson."
   ]
  },
  {
   "cell_type": "code",
   "execution_count": 70,
   "metadata": {},
   "outputs": [
    {
     "data": {
      "text/plain": [
       "<AxesSubplot:xlabel='td', ylabel='tmax'>"
      ]
     },
     "execution_count": 70,
     "metadata": {},
     "output_type": "execute_result"
    },
    {
     "data": {
      "image/png": "[encoded data removed]",
      "text/plain": [
       "<Figure size 864x432 with 1 Axes>"
      ]
     },
     "metadata": {
      "needs_background": "light"
     },
     "output_type": "display_data"
    }
   ],
   "source": [
    "data.plot.scatter(y='tmax', x='td', figsize=(12,6))"
   ]
  },
  {
   "cell_type": "markdown",
   "metadata": {},
   "source": [
    "#### Tambien podemos realizarlo de la siguiente manera"
   ]
  },
  {
   "cell_type": "markdown",
   "metadata": {},
   "source": [
    "***Es preferible realizarlo de esta manera por su mayor eficiencia en la comparación***"
   ]
  },
  {
   "cell_type": "code",
   "execution_count": 77,
   "metadata": {},
   "outputs": [
    {
     "data": {
      "text/plain": [
       "<matplotlib.collections.PathCollection at 0x202b2711b50>"
      ]
     },
     "execution_count": 77,
     "metadata": {},
     "output_type": "execute_result"
    },
    {
     "data": {
      "image/png": "[encoded data removed]",
      "text/plain": [
       "<Figure size 864x432 with 2 Axes>"
      ]
     },
     "metadata": {
      "needs_background": "light"
     },
     "output_type": "display_data"
    }
   ],
   "source": [
    "fig, (ax1, ax2) = plt.subplots(1, 2, figsize=(12,6))\n",
    "ax1.scatter(x=data['tmax'], y=data['td'])\n",
    "ax2.scatter(y=data['tmax'], x=data['td'])"
   ]
  },
  {
   "cell_type": "markdown",
   "metadata": {},
   "source": [
    "#### Temperatura máxima vs Humedad relativa"
   ]
  },
  {
   "cell_type": "code",
   "execution_count": 78,
   "metadata": {},
   "outputs": [
    {
     "data": {
      "text/plain": [
       "<matplotlib.collections.PathCollection at 0x202b26848b0>"
      ]
     },
     "execution_count": 78,
     "metadata": {},
     "output_type": "execute_result"
    },
    {
     "data": {
      "image/png": "[encoded data removed]",
      "text/plain": [
       "<Figure size 864x432 with 2 Axes>"
      ]
     },
     "metadata": {
      "needs_background": "light"
     },
     "output_type": "display_data"
    }
   ],
   "source": [
    "fig, (ax1, ax2) = plt.subplots(1, 2, figsize=(12,6))\n",
    "ax1.scatter(x=data['tmax'], y=data['hr'])\n",
    "ax2.scatter(y=data['tmax'], x=data['hr'])"
   ]
  },
  {
   "cell_type": "markdown",
   "metadata": {},
   "source": [
    "El gráfico nos da la leve impresión de que existe una relación lineal inversa entre las variables."
   ]
  },
  {
   "cell_type": "markdown",
   "metadata": {},
   "source": [
    "#### Temperatura máxima vs Precipitación"
   ]
  },
  {
   "cell_type": "code",
   "execution_count": 79,
   "metadata": {},
   "outputs": [
    {
     "data": {
      "text/plain": [
       "<matplotlib.collections.PathCollection at 0x202b1773130>"
      ]
     },
     "execution_count": 79,
     "metadata": {},
     "output_type": "execute_result"
    },
    {
     "data": {
      "image/png": "[encoded data removed]",
      "text/plain": [
       "<Figure size 864x432 with 2 Axes>"
      ]
     },
     "metadata": {
      "needs_background": "light"
     },
     "output_type": "display_data"
    }
   ],
   "source": [
    "fig, (ax1, ax2) = plt.subplots(1, 2, figsize=(12,6))\n",
    "ax1.scatter(x=data['tmax'], y=data['prcp'])\n",
    "ax2.scatter(y=data['tmax'], x=data['prcp'])"
   ]
  },
  {
   "cell_type": "markdown",
   "metadata": {},
   "source": [
    "***Este análisis lo podríamos realizar con todas las variables, pero, es mucho más sencillo corroborarla mediante el índice de correlación de Pearson. Con él podemos corroborar el grado de intensidad de la linealidad entre dos variables cuantitativas***"
   ]
  },
  {
   "cell_type": "markdown",
   "metadata": {},
   "source": [
    "El análisis lo haremos solo con variables significativas."
   ]
  },
  {
   "cell_type": "code",
   "execution_count": 61,
   "metadata": {},
   "outputs": [],
   "source": [
    "data_sig = data[['tmax', 'tmin', 'td', 'prcp', 'hr', 'helio', 'nub']]"
   ]
  },
  {
   "cell_type": "markdown",
   "metadata": {},
   "source": [
    "#### Cálculo de la matriz de correlación de Pearson"
   ]
  },
  {
   "cell_type": "code",
   "execution_count": 67,
   "metadata": {},
   "outputs": [
    {
     "data": {
      "text/html": [
       "<div>\n",
       "<style scoped>\n",
       "    .dataframe tbody tr th:only-of-type {\n",
       "        vertical-align: middle;\n",
       "    }\n",
       "\n",
       "    .dataframe tbody tr th {\n",
       "        vertical-align: top;\n",
       "    }\n",
       "\n",
       "    .dataframe thead th {\n",
       "        text-align: right;\n",
       "    }\n",
       "</style>\n",
       "<table border=\"1\" class=\"dataframe\">\n",
       "  <thead>\n",
       "    <tr style=\"text-align: right;\">\n",
       "      <th></th>\n",
       "      <th>tmax</th>\n",
       "      <th>tmin</th>\n",
       "      <th>td</th>\n",
       "      <th>prcp</th>\n",
       "      <th>hr</th>\n",
       "      <th>helio</th>\n",
       "      <th>nub</th>\n",
       "    </tr>\n",
       "  </thead>\n",
       "  <tbody>\n",
       "    <tr>\n",
       "      <th>tmax</th>\n",
       "      <td>1.000000</td>\n",
       "      <td>0.730491</td>\n",
       "      <td>0.665169</td>\n",
       "      <td>-0.015391</td>\n",
       "      <td>-0.501009</td>\n",
       "      <td>0.463691</td>\n",
       "      <td>-0.272749</td>\n",
       "    </tr>\n",
       "    <tr>\n",
       "      <th>tmin</th>\n",
       "      <td>0.730491</td>\n",
       "      <td>1.000000</td>\n",
       "      <td>0.867721</td>\n",
       "      <td>0.151962</td>\n",
       "      <td>-0.099040</td>\n",
       "      <td>0.030730</td>\n",
       "      <td>0.196729</td>\n",
       "    </tr>\n",
       "    <tr>\n",
       "      <th>td</th>\n",
       "      <td>0.665169</td>\n",
       "      <td>0.867721</td>\n",
       "      <td>1.000000</td>\n",
       "      <td>0.172272</td>\n",
       "      <td>0.198225</td>\n",
       "      <td>0.001044</td>\n",
       "      <td>0.221178</td>\n",
       "    </tr>\n",
       "    <tr>\n",
       "      <th>prcp</th>\n",
       "      <td>-0.015391</td>\n",
       "      <td>0.151962</td>\n",
       "      <td>0.172272</td>\n",
       "      <td>1.000000</td>\n",
       "      <td>0.226401</td>\n",
       "      <td>-0.242803</td>\n",
       "      <td>0.277192</td>\n",
       "    </tr>\n",
       "    <tr>\n",
       "      <th>hr</th>\n",
       "      <td>-0.501009</td>\n",
       "      <td>-0.099040</td>\n",
       "      <td>0.198225</td>\n",
       "      <td>0.226401</td>\n",
       "      <td>1.000000</td>\n",
       "      <td>-0.551798</td>\n",
       "      <td>0.531528</td>\n",
       "    </tr>\n",
       "    <tr>\n",
       "      <th>helio</th>\n",
       "      <td>0.463691</td>\n",
       "      <td>0.030730</td>\n",
       "      <td>0.001044</td>\n",
       "      <td>-0.242803</td>\n",
       "      <td>-0.551798</td>\n",
       "      <td>1.000000</td>\n",
       "      <td>-0.751312</td>\n",
       "    </tr>\n",
       "    <tr>\n",
       "      <th>nub</th>\n",
       "      <td>-0.272749</td>\n",
       "      <td>0.196729</td>\n",
       "      <td>0.221178</td>\n",
       "      <td>0.277192</td>\n",
       "      <td>0.531528</td>\n",
       "      <td>-0.751312</td>\n",
       "      <td>1.000000</td>\n",
       "    </tr>\n",
       "  </tbody>\n",
       "</table>\n",
       "</div>"
      ],
      "text/plain": [
       "           tmax      tmin        td      prcp        hr     helio       nub\n",
       "tmax   1.000000  0.730491  0.665169 -0.015391 -0.501009  0.463691 -0.272749\n",
       "tmin   0.730491  1.000000  0.867721  0.151962 -0.099040  0.030730  0.196729\n",
       "td     0.665169  0.867721  1.000000  0.172272  0.198225  0.001044  0.221178\n",
       "prcp  -0.015391  0.151962  0.172272  1.000000  0.226401 -0.242803  0.277192\n",
       "hr    -0.501009 -0.099040  0.198225  0.226401  1.000000 -0.551798  0.531528\n",
       "helio  0.463691  0.030730  0.001044 -0.242803 -0.551798  1.000000 -0.751312\n",
       "nub   -0.272749  0.196729  0.221178  0.277192  0.531528 -0.751312  1.000000"
      ]
     },
     "execution_count": 67,
     "metadata": {},
     "output_type": "execute_result"
    }
   ],
   "source": [
    "data_sig.corr(method='pearson')"
   ]
  },
  {
   "cell_type": "markdown",
   "metadata": {},
   "source": [
    "#### Gráficamente"
   ]
  },
  {
   "cell_type": "code",
   "execution_count": 100,
   "metadata": {},
   "outputs": [
    {
     "data": {
      "image/png": "[encoded data removed]",
      "text/plain": [
       "<Figure size 576x576 with 1 Axes>"
      ]
     },
     "metadata": {
      "needs_background": "light"
     },
     "output_type": "display_data"
    }
   ],
   "source": [
    "corr = data_sig.corr(method='pearson')\n",
    "fig = plt.figure(figsize=(8,8))\n",
    "plt.matshow(corr, cmap='RdBu', fignum=fig.number)\n",
    "# ; es necesario\n",
    "plt.xticks(range(len(corr.columns)), corr.columns, rotation='vertical');\n",
    "plt.yticks(range(len(corr.columns)), corr.columns);"
   ]
  },
  {
   "cell_type": "markdown",
   "metadata": {},
   "source": [
    "#### Conclusiones"
   ]
  },
  {
   "cell_type": "markdown",
   "metadata": {},
   "source": [
    "1. ***tmax vs td o tmin vs td:*** como el índice es 0.66 existe una posible relación lineal directa entre la temperatura máxima y la temperatura del punto de rocio. A su vez, podemos notar que la relación lineal directa más fuerte (con respecto a las temperaturas máxima o mínima) es la de la temperatura mínima con la temperatura del punto de rocio (nos da 0.86). Por lo tanto, podemos concluir que las temperaturas máxima y mínima tienen cierto grado de linealidad directa con la temperatura del punto de rocio, pero, la relación más fuerte es de la temperatura mínima con la temperatura del punto de rocio.\n",
    "\n",
    "2. ***tmax vs hr:*** aquí el índice de correlación de pearson nos indica que existe una correlación, pero a diferencia del análisis anterior, ésta es una relación inversa. Es decir que a mayor temperatura máxima, por lo general, encontraremos que la humedad relativa es menor y viceversa.\n",
    "\n",
    "3. ***helio vs nub:*** otra relación importante es la de las horas de radiación solar versus la nubosidad. Aquí podemos notar que la relación lineal es inversa, es decir, a mayor nubosidad encontramos menor cantidad de horas de radiación solar y viceversa.\n",
    "\n",
    "4. ***hr vs helio:*** encontramos que la relación lineal es inversa, es decir, a mayor humedad relativa menor cantidad de horas de readiación solar y viceversa.\n",
    "\n",
    "5. ***hr vs nub:*** encontramos que la relación lineal es directa, es decir, a mayor humedad relativa encontramos mayor nubosidad y viceversa.\n",
    "\n",
    "6. Se puede notar que la precipitación no presenta ninguna relación **lineal** con las otra variables, pero, esto no quiere decir que no exista ningún tipo de relación ya que podemos encontrar relaciones monótonas si corroboramos el índice de correlación de Spearman."
   ]
  },
  {
   "cell_type": "markdown",
   "metadata": {},
   "source": [
    "### Análisis de correlación de Spearman"
   ]
  },
  {
   "cell_type": "markdown",
   "metadata": {},
   "source": [
    "#### Cálculo de la matriz de correlación de spearman"
   ]
  },
  {
   "cell_type": "code",
   "execution_count": 80,
   "metadata": {},
   "outputs": [
    {
     "data": {
      "text/html": [
       "<div>\n",
       "<style scoped>\n",
       "    .dataframe tbody tr th:only-of-type {\n",
       "        vertical-align: middle;\n",
       "    }\n",
       "\n",
       "    .dataframe tbody tr th {\n",
       "        vertical-align: top;\n",
       "    }\n",
       "\n",
       "    .dataframe thead th {\n",
       "        text-align: right;\n",
       "    }\n",
       "</style>\n",
       "<table border=\"1\" class=\"dataframe\">\n",
       "  <thead>\n",
       "    <tr style=\"text-align: right;\">\n",
       "      <th></th>\n",
       "      <th>tmax</th>\n",
       "      <th>tmin</th>\n",
       "      <th>td</th>\n",
       "      <th>prcp</th>\n",
       "      <th>hr</th>\n",
       "      <th>helio</th>\n",
       "      <th>nub</th>\n",
       "    </tr>\n",
       "  </thead>\n",
       "  <tbody>\n",
       "    <tr>\n",
       "      <th>tmax</th>\n",
       "      <td>1.000000</td>\n",
       "      <td>0.717457</td>\n",
       "      <td>0.624592</td>\n",
       "      <td>-0.082513</td>\n",
       "      <td>-0.518650</td>\n",
       "      <td>0.475001</td>\n",
       "      <td>-0.268334</td>\n",
       "    </tr>\n",
       "    <tr>\n",
       "      <th>tmin</th>\n",
       "      <td>0.717457</td>\n",
       "      <td>1.000000</td>\n",
       "      <td>0.856393</td>\n",
       "      <td>0.205539</td>\n",
       "      <td>-0.105096</td>\n",
       "      <td>0.066204</td>\n",
       "      <td>0.177338</td>\n",
       "    </tr>\n",
       "    <tr>\n",
       "      <th>td</th>\n",
       "      <td>0.624592</td>\n",
       "      <td>0.856393</td>\n",
       "      <td>1.000000</td>\n",
       "      <td>0.245603</td>\n",
       "      <td>0.183348</td>\n",
       "      <td>0.023402</td>\n",
       "      <td>0.224376</td>\n",
       "    </tr>\n",
       "    <tr>\n",
       "      <th>prcp</th>\n",
       "      <td>-0.082513</td>\n",
       "      <td>0.205539</td>\n",
       "      <td>0.245603</td>\n",
       "      <td>1.000000</td>\n",
       "      <td>0.389160</td>\n",
       "      <td>-0.423254</td>\n",
       "      <td>0.474090</td>\n",
       "    </tr>\n",
       "    <tr>\n",
       "      <th>hr</th>\n",
       "      <td>-0.518650</td>\n",
       "      <td>-0.105096</td>\n",
       "      <td>0.183348</td>\n",
       "      <td>0.389160</td>\n",
       "      <td>1.000000</td>\n",
       "      <td>-0.577067</td>\n",
       "      <td>0.548859</td>\n",
       "    </tr>\n",
       "    <tr>\n",
       "      <th>helio</th>\n",
       "      <td>0.475001</td>\n",
       "      <td>0.066204</td>\n",
       "      <td>0.023402</td>\n",
       "      <td>-0.423254</td>\n",
       "      <td>-0.577067</td>\n",
       "      <td>1.000000</td>\n",
       "      <td>-0.740079</td>\n",
       "    </tr>\n",
       "    <tr>\n",
       "      <th>nub</th>\n",
       "      <td>-0.268334</td>\n",
       "      <td>0.177338</td>\n",
       "      <td>0.224376</td>\n",
       "      <td>0.474090</td>\n",
       "      <td>0.548859</td>\n",
       "      <td>-0.740079</td>\n",
       "      <td>1.000000</td>\n",
       "    </tr>\n",
       "  </tbody>\n",
       "</table>\n",
       "</div>"
      ],
      "text/plain": [
       "           tmax      tmin        td      prcp        hr     helio       nub\n",
       "tmax   1.000000  0.717457  0.624592 -0.082513 -0.518650  0.475001 -0.268334\n",
       "tmin   0.717457  1.000000  0.856393  0.205539 -0.105096  0.066204  0.177338\n",
       "td     0.624592  0.856393  1.000000  0.245603  0.183348  0.023402  0.224376\n",
       "prcp  -0.082513  0.205539  0.245603  1.000000  0.389160 -0.423254  0.474090\n",
       "hr    -0.518650 -0.105096  0.183348  0.389160  1.000000 -0.577067  0.548859\n",
       "helio  0.475001  0.066204  0.023402 -0.423254 -0.577067  1.000000 -0.740079\n",
       "nub   -0.268334  0.177338  0.224376  0.474090  0.548859 -0.740079  1.000000"
      ]
     },
     "execution_count": 80,
     "metadata": {},
     "output_type": "execute_result"
    }
   ],
   "source": [
    "data_sig.corr(method='spearman')"
   ]
  },
  {
   "cell_type": "markdown",
   "metadata": {},
   "source": [
    "#### Gráficamente"
   ]
  },
  {
   "cell_type": "code",
   "execution_count": 101,
   "metadata": {},
   "outputs": [
    {
     "data": {
      "image/png": "[encoded data removed]",
      "text/plain": [
       "<Figure size 576x576 with 1 Axes>"
      ]
     },
     "metadata": {
      "needs_background": "light"
     },
     "output_type": "display_data"
    }
   ],
   "source": [
    "corr = data_sig.corr(method='spearman')\n",
    "fig = plt.figure(figsize=(8,8))\n",
    "plt.matshow(corr, cmap='RdBu', fignum=fig.number)\n",
    "# ; es necesario\n",
    "plt.xticks(range(len(corr.columns)), corr.columns, rotation='vertical');\n",
    "plt.yticks(range(len(corr.columns)), corr.columns);"
   ]
  },
  {
   "cell_type": "markdown",
   "metadata": {},
   "source": [
    "#### Conclusiones"
   ]
  },
  {
   "cell_type": "markdown",
   "metadata": {},
   "source": [
    "**Diferencia con pearson:** en este caso los valores cercanos a 1 nos indican una relación monótona positiva, es decir, ambas variables se mueven en la misma dirección (aumentan o disminuyen) pero no necesariamente al mismo ritmo. Asimismo, para valores cercanos a -1 la relación es negativa, es decir, se mueven en direcciones contrarias (una de las variables aumenta y la otra disminuye) pero tampoco al mismo ritmo."
   ]
  },
  {
   "cell_type": "markdown",
   "metadata": {},
   "source": [
    "***Cuando encontramos que el coeficiente de correlación de pearson es cero nos indica que no hay relación lineal pero no implica que no haya relación monótona. Al contrario, si el coeficiente de correlación de spearman es cero podemos estar completamente seguros de que no existe relación monótona y por ende tampoco habrá relación lineal.***"
   ]
  },
  {
   "cell_type": "markdown",
   "metadata": {},
   "source": [
    "### Precipitación por estación histórico"
   ]
  },
  {
   "cell_type": "code",
   "execution_count": 88,
   "metadata": {},
   "outputs": [
    {
     "data": {
      "text/html": [
       "<div>\n",
       "<style scoped>\n",
       "    .dataframe tbody tr th:only-of-type {\n",
       "        vertical-align: middle;\n",
       "    }\n",
       "\n",
       "    .dataframe tbody tr th {\n",
       "        vertical-align: top;\n",
       "    }\n",
       "\n",
       "    .dataframe thead th {\n",
       "        text-align: right;\n",
       "    }\n",
       "</style>\n",
       "<table border=\"1\" class=\"dataframe\">\n",
       "  <thead>\n",
       "    <tr style=\"text-align: right;\">\n",
       "      <th></th>\n",
       "      <th>omm_id</th>\n",
       "      <th>prcp</th>\n",
       "    </tr>\n",
       "  </thead>\n",
       "  <tbody>\n",
       "    <tr>\n",
       "      <th>0</th>\n",
       "      <td>86011</td>\n",
       "      <td>0.0</td>\n",
       "    </tr>\n",
       "    <tr>\n",
       "      <th>1</th>\n",
       "      <td>86011</td>\n",
       "      <td>0.5</td>\n",
       "    </tr>\n",
       "    <tr>\n",
       "      <th>2</th>\n",
       "      <td>86011</td>\n",
       "      <td>0.0</td>\n",
       "    </tr>\n",
       "    <tr>\n",
       "      <th>3</th>\n",
       "      <td>86011</td>\n",
       "      <td>0.0</td>\n",
       "    </tr>\n",
       "    <tr>\n",
       "      <th>4</th>\n",
       "      <td>86011</td>\n",
       "      <td>0.0</td>\n",
       "    </tr>\n",
       "  </tbody>\n",
       "</table>\n",
       "</div>"
      ],
      "text/plain": [
       "   omm_id  prcp\n",
       "0   86011   0.0\n",
       "1   86011   0.5\n",
       "2   86011   0.0\n",
       "3   86011   0.0\n",
       "4   86011   0.0"
      ]
     },
     "execution_count": 88,
     "metadata": {},
     "output_type": "execute_result"
    }
   ],
   "source": [
    "# se extraen las columnas omm_id y prcp\n",
    "prcp = data[['omm_id', 'prcp']]\n",
    "prcp.head(5)"
   ]
  },
  {
   "cell_type": "markdown",
   "metadata": {},
   "source": [
    "#### Agrupamos por id y promediamos"
   ]
  },
  {
   "cell_type": "code",
   "execution_count": 89,
   "metadata": {},
   "outputs": [
    {
     "data": {
      "text/html": [
       "<div>\n",
       "<style scoped>\n",
       "    .dataframe tbody tr th:only-of-type {\n",
       "        vertical-align: middle;\n",
       "    }\n",
       "\n",
       "    .dataframe tbody tr th {\n",
       "        vertical-align: top;\n",
       "    }\n",
       "\n",
       "    .dataframe thead th {\n",
       "        text-align: right;\n",
       "    }\n",
       "</style>\n",
       "<table border=\"1\" class=\"dataframe\">\n",
       "  <thead>\n",
       "    <tr style=\"text-align: right;\">\n",
       "      <th></th>\n",
       "      <th>prcp</th>\n",
       "    </tr>\n",
       "    <tr>\n",
       "      <th>omm_id</th>\n",
       "      <th></th>\n",
       "    </tr>\n",
       "  </thead>\n",
       "  <tbody>\n",
       "    <tr>\n",
       "      <th>86011</th>\n",
       "      <td>2.757735</td>\n",
       "    </tr>\n",
       "    <tr>\n",
       "      <th>86033</th>\n",
       "      <td>2.797225</td>\n",
       "    </tr>\n",
       "    <tr>\n",
       "      <th>86065</th>\n",
       "      <td>1.796727</td>\n",
       "    </tr>\n",
       "    <tr>\n",
       "      <th>86068</th>\n",
       "      <td>2.101215</td>\n",
       "    </tr>\n",
       "    <tr>\n",
       "      <th>86086</th>\n",
       "      <td>3.601639</td>\n",
       "    </tr>\n",
       "    <tr>\n",
       "      <th>86097</th>\n",
       "      <td>4.530712</td>\n",
       "    </tr>\n",
       "    <tr>\n",
       "      <th>86125</th>\n",
       "      <td>3.031293</td>\n",
       "    </tr>\n",
       "    <tr>\n",
       "      <th>86128</th>\n",
       "      <td>3.131008</td>\n",
       "    </tr>\n",
       "    <tr>\n",
       "      <th>86134</th>\n",
       "      <td>3.774101</td>\n",
       "    </tr>\n",
       "    <tr>\n",
       "      <th>86170</th>\n",
       "      <td>3.439473</td>\n",
       "    </tr>\n",
       "    <tr>\n",
       "      <th>86185</th>\n",
       "      <td>4.011414</td>\n",
       "    </tr>\n",
       "    <tr>\n",
       "      <th>86192</th>\n",
       "      <td>4.377139</td>\n",
       "    </tr>\n",
       "    <tr>\n",
       "      <th>86210</th>\n",
       "      <td>4.682335</td>\n",
       "    </tr>\n",
       "    <tr>\n",
       "      <th>86218</th>\n",
       "      <td>3.802125</td>\n",
       "    </tr>\n",
       "    <tr>\n",
       "      <th>86221</th>\n",
       "      <td>4.055172</td>\n",
       "    </tr>\n",
       "    <tr>\n",
       "      <th>86233</th>\n",
       "      <td>4.558434</td>\n",
       "    </tr>\n",
       "    <tr>\n",
       "      <th>86234</th>\n",
       "      <td>4.957976</td>\n",
       "    </tr>\n",
       "    <tr>\n",
       "      <th>86246</th>\n",
       "      <td>5.052463</td>\n",
       "    </tr>\n",
       "    <tr>\n",
       "      <th>86248</th>\n",
       "      <td>4.924793</td>\n",
       "    </tr>\n",
       "    <tr>\n",
       "      <th>86251</th>\n",
       "      <td>4.684686</td>\n",
       "    </tr>\n",
       "    <tr>\n",
       "      <th>86255</th>\n",
       "      <td>3.942447</td>\n",
       "    </tr>\n",
       "    <tr>\n",
       "      <th>86260</th>\n",
       "      <td>4.569325</td>\n",
       "    </tr>\n",
       "    <tr>\n",
       "      <th>86268</th>\n",
       "      <td>4.418828</td>\n",
       "    </tr>\n",
       "  </tbody>\n",
       "</table>\n",
       "</div>"
      ],
      "text/plain": [
       "            prcp\n",
       "omm_id          \n",
       "86011   2.757735\n",
       "86033   2.797225\n",
       "86065   1.796727\n",
       "86068   2.101215\n",
       "86086   3.601639\n",
       "86097   4.530712\n",
       "86125   3.031293\n",
       "86128   3.131008\n",
       "86134   3.774101\n",
       "86170   3.439473\n",
       "86185   4.011414\n",
       "86192   4.377139\n",
       "86210   4.682335\n",
       "86218   3.802125\n",
       "86221   4.055172\n",
       "86233   4.558434\n",
       "86234   4.957976\n",
       "86246   5.052463\n",
       "86248   4.924793\n",
       "86251   4.684686\n",
       "86255   3.942447\n",
       "86260   4.569325\n",
       "86268   4.418828"
      ]
     },
     "execution_count": 89,
     "metadata": {},
     "output_type": "execute_result"
    }
   ],
   "source": [
    "prcp_mean = prcp.groupby(by=[\"omm_id\"]).mean()\n",
    "prcp_mean.head(23)"
   ]
  },
  {
   "cell_type": "markdown",
   "metadata": {},
   "source": [
    "#### Modificamos el omm_id por el nombre de estacion"
   ]
  },
  {
   "cell_type": "code",
   "execution_count": 90,
   "metadata": {},
   "outputs": [],
   "source": [
    "prcp_mean.index = prcp_mean.index.map({\n",
    "    86011 : 'Adrian Jara',\n",
    "    86033 : 'Bahia Negra',\n",
    "    86065 : 'Pratts Gill',\n",
    "    86068 : 'Mcal. Estigarribia',\n",
    "    86086 : 'Puerto Casado',\n",
    "    86097 : 'P. J. Caballero',\n",
    "    86125 : 'Primero sin nombre',\n",
    "    86128 : 'Pozo Colorado',\n",
    "    86134 : 'Concepcion',\n",
    "    86170 : 'Gral. Bruguez',\n",
    "    86185 : 'San Pedro',\n",
    "    86192 : 'San Estanislao',\n",
    "    86210 : 'Salto del Guaira',\n",
    "    86218 : 'Silvio Pettirosi',\n",
    "    86221 : 'Paraguari',\n",
    "    86233 : 'Villarrica',\n",
    "    86234 : 'Cnel. Oviedo',\n",
    "    86246 : 'Aeropuerto Guarani',\n",
    "    86248 : 'Segundo sin nombre',\n",
    "    86251 : 'Quyquyho',\n",
    "    86255 : 'Pilar',\n",
    "    86260 : 'San Juan Bautista',\n",
    "    86268 : 'Caazapa',\n",
    "    86285 : 'Capitan Meza',\n",
    "    86294 : 'Capitan Miranda',\n",
    "    86297 : 'Encarnacion',\n",
    "})"
   ]
  },
  {
   "cell_type": "code",
   "execution_count": 91,
   "metadata": {},
   "outputs": [
    {
     "data": {
      "text/html": [
       "<div>\n",
       "<style scoped>\n",
       "    .dataframe tbody tr th:only-of-type {\n",
       "        vertical-align: middle;\n",
       "    }\n",
       "\n",
       "    .dataframe tbody tr th {\n",
       "        vertical-align: top;\n",
       "    }\n",
       "\n",
       "    .dataframe thead th {\n",
       "        text-align: right;\n",
       "    }\n",
       "</style>\n",
       "<table border=\"1\" class=\"dataframe\">\n",
       "  <thead>\n",
       "    <tr style=\"text-align: right;\">\n",
       "      <th></th>\n",
       "      <th>prcp</th>\n",
       "    </tr>\n",
       "    <tr>\n",
       "      <th>omm_id</th>\n",
       "      <th></th>\n",
       "    </tr>\n",
       "  </thead>\n",
       "  <tbody>\n",
       "    <tr>\n",
       "      <th>Adrian Jara</th>\n",
       "      <td>2.757735</td>\n",
       "    </tr>\n",
       "    <tr>\n",
       "      <th>Bahia Negra</th>\n",
       "      <td>2.797225</td>\n",
       "    </tr>\n",
       "    <tr>\n",
       "      <th>Pratts Gill</th>\n",
       "      <td>1.796727</td>\n",
       "    </tr>\n",
       "    <tr>\n",
       "      <th>Mcal. Estigarribia</th>\n",
       "      <td>2.101215</td>\n",
       "    </tr>\n",
       "    <tr>\n",
       "      <th>Puerto Casado</th>\n",
       "      <td>3.601639</td>\n",
       "    </tr>\n",
       "    <tr>\n",
       "      <th>P. J. Caballero</th>\n",
       "      <td>4.530712</td>\n",
       "    </tr>\n",
       "    <tr>\n",
       "      <th>Primero sin nombre</th>\n",
       "      <td>3.031293</td>\n",
       "    </tr>\n",
       "    <tr>\n",
       "      <th>Pozo Colorado</th>\n",
       "      <td>3.131008</td>\n",
       "    </tr>\n",
       "    <tr>\n",
       "      <th>Concepcion</th>\n",
       "      <td>3.774101</td>\n",
       "    </tr>\n",
       "    <tr>\n",
       "      <th>Gral. Bruguez</th>\n",
       "      <td>3.439473</td>\n",
       "    </tr>\n",
       "    <tr>\n",
       "      <th>San Pedro</th>\n",
       "      <td>4.011414</td>\n",
       "    </tr>\n",
       "    <tr>\n",
       "      <th>San Estanislao</th>\n",
       "      <td>4.377139</td>\n",
       "    </tr>\n",
       "    <tr>\n",
       "      <th>Salto del Guaira</th>\n",
       "      <td>4.682335</td>\n",
       "    </tr>\n",
       "    <tr>\n",
       "      <th>Silvio Pettirosi</th>\n",
       "      <td>3.802125</td>\n",
       "    </tr>\n",
       "    <tr>\n",
       "      <th>Paraguari</th>\n",
       "      <td>4.055172</td>\n",
       "    </tr>\n",
       "    <tr>\n",
       "      <th>Villarrica</th>\n",
       "      <td>4.558434</td>\n",
       "    </tr>\n",
       "    <tr>\n",
       "      <th>Cnel. Oviedo</th>\n",
       "      <td>4.957976</td>\n",
       "    </tr>\n",
       "    <tr>\n",
       "      <th>Aeropuerto Guarani</th>\n",
       "      <td>5.052463</td>\n",
       "    </tr>\n",
       "    <tr>\n",
       "      <th>Segundo sin nombre</th>\n",
       "      <td>4.924793</td>\n",
       "    </tr>\n",
       "    <tr>\n",
       "      <th>Quyquyho</th>\n",
       "      <td>4.684686</td>\n",
       "    </tr>\n",
       "    <tr>\n",
       "      <th>Pilar</th>\n",
       "      <td>3.942447</td>\n",
       "    </tr>\n",
       "    <tr>\n",
       "      <th>San Juan Bautista</th>\n",
       "      <td>4.569325</td>\n",
       "    </tr>\n",
       "    <tr>\n",
       "      <th>Caazapa</th>\n",
       "      <td>4.418828</td>\n",
       "    </tr>\n",
       "  </tbody>\n",
       "</table>\n",
       "</div>"
      ],
      "text/plain": [
       "                        prcp\n",
       "omm_id                      \n",
       "Adrian Jara         2.757735\n",
       "Bahia Negra         2.797225\n",
       "Pratts Gill         1.796727\n",
       "Mcal. Estigarribia  2.101215\n",
       "Puerto Casado       3.601639\n",
       "P. J. Caballero     4.530712\n",
       "Primero sin nombre  3.031293\n",
       "Pozo Colorado       3.131008\n",
       "Concepcion          3.774101\n",
       "Gral. Bruguez       3.439473\n",
       "San Pedro           4.011414\n",
       "San Estanislao      4.377139\n",
       "Salto del Guaira    4.682335\n",
       "Silvio Pettirosi    3.802125\n",
       "Paraguari           4.055172\n",
       "Villarrica          4.558434\n",
       "Cnel. Oviedo        4.957976\n",
       "Aeropuerto Guarani  5.052463\n",
       "Segundo sin nombre  4.924793\n",
       "Quyquyho            4.684686\n",
       "Pilar               3.942447\n",
       "San Juan Bautista   4.569325\n",
       "Caazapa             4.418828"
      ]
     },
     "execution_count": 91,
     "metadata": {},
     "output_type": "execute_result"
    }
   ],
   "source": [
    "prcp_mean.head(23)"
   ]
  },
  {
   "cell_type": "markdown",
   "metadata": {},
   "source": [
    "#### Nos conviene tener el omm_id como columna y no como índice del dataframe"
   ]
  },
  {
   "cell_type": "code",
   "execution_count": 92,
   "metadata": {},
   "outputs": [
    {
     "data": {
      "text/html": [
       "<div>\n",
       "<style scoped>\n",
       "    .dataframe tbody tr th:only-of-type {\n",
       "        vertical-align: middle;\n",
       "    }\n",
       "\n",
       "    .dataframe tbody tr th {\n",
       "        vertical-align: top;\n",
       "    }\n",
       "\n",
       "    .dataframe thead th {\n",
       "        text-align: right;\n",
       "    }\n",
       "</style>\n",
       "<table border=\"1\" class=\"dataframe\">\n",
       "  <thead>\n",
       "    <tr style=\"text-align: right;\">\n",
       "      <th></th>\n",
       "      <th>omm_id</th>\n",
       "      <th>prcp</th>\n",
       "    </tr>\n",
       "  </thead>\n",
       "  <tbody>\n",
       "    <tr>\n",
       "      <th>0</th>\n",
       "      <td>Adrian Jara</td>\n",
       "      <td>2.757735</td>\n",
       "    </tr>\n",
       "    <tr>\n",
       "      <th>1</th>\n",
       "      <td>Bahia Negra</td>\n",
       "      <td>2.797225</td>\n",
       "    </tr>\n",
       "    <tr>\n",
       "      <th>2</th>\n",
       "      <td>Pratts Gill</td>\n",
       "      <td>1.796727</td>\n",
       "    </tr>\n",
       "    <tr>\n",
       "      <th>3</th>\n",
       "      <td>Mcal. Estigarribia</td>\n",
       "      <td>2.101215</td>\n",
       "    </tr>\n",
       "    <tr>\n",
       "      <th>4</th>\n",
       "      <td>Puerto Casado</td>\n",
       "      <td>3.601639</td>\n",
       "    </tr>\n",
       "    <tr>\n",
       "      <th>5</th>\n",
       "      <td>P. J. Caballero</td>\n",
       "      <td>4.530712</td>\n",
       "    </tr>\n",
       "    <tr>\n",
       "      <th>6</th>\n",
       "      <td>Primero sin nombre</td>\n",
       "      <td>3.031293</td>\n",
       "    </tr>\n",
       "    <tr>\n",
       "      <th>7</th>\n",
       "      <td>Pozo Colorado</td>\n",
       "      <td>3.131008</td>\n",
       "    </tr>\n",
       "    <tr>\n",
       "      <th>8</th>\n",
       "      <td>Concepcion</td>\n",
       "      <td>3.774101</td>\n",
       "    </tr>\n",
       "    <tr>\n",
       "      <th>9</th>\n",
       "      <td>Gral. Bruguez</td>\n",
       "      <td>3.439473</td>\n",
       "    </tr>\n",
       "    <tr>\n",
       "      <th>10</th>\n",
       "      <td>San Pedro</td>\n",
       "      <td>4.011414</td>\n",
       "    </tr>\n",
       "    <tr>\n",
       "      <th>11</th>\n",
       "      <td>San Estanislao</td>\n",
       "      <td>4.377139</td>\n",
       "    </tr>\n",
       "    <tr>\n",
       "      <th>12</th>\n",
       "      <td>Salto del Guaira</td>\n",
       "      <td>4.682335</td>\n",
       "    </tr>\n",
       "    <tr>\n",
       "      <th>13</th>\n",
       "      <td>Silvio Pettirosi</td>\n",
       "      <td>3.802125</td>\n",
       "    </tr>\n",
       "    <tr>\n",
       "      <th>14</th>\n",
       "      <td>Paraguari</td>\n",
       "      <td>4.055172</td>\n",
       "    </tr>\n",
       "    <tr>\n",
       "      <th>15</th>\n",
       "      <td>Villarrica</td>\n",
       "      <td>4.558434</td>\n",
       "    </tr>\n",
       "    <tr>\n",
       "      <th>16</th>\n",
       "      <td>Cnel. Oviedo</td>\n",
       "      <td>4.957976</td>\n",
       "    </tr>\n",
       "    <tr>\n",
       "      <th>17</th>\n",
       "      <td>Aeropuerto Guarani</td>\n",
       "      <td>5.052463</td>\n",
       "    </tr>\n",
       "    <tr>\n",
       "      <th>18</th>\n",
       "      <td>Segundo sin nombre</td>\n",
       "      <td>4.924793</td>\n",
       "    </tr>\n",
       "    <tr>\n",
       "      <th>19</th>\n",
       "      <td>Quyquyho</td>\n",
       "      <td>4.684686</td>\n",
       "    </tr>\n",
       "    <tr>\n",
       "      <th>20</th>\n",
       "      <td>Pilar</td>\n",
       "      <td>3.942447</td>\n",
       "    </tr>\n",
       "    <tr>\n",
       "      <th>21</th>\n",
       "      <td>San Juan Bautista</td>\n",
       "      <td>4.569325</td>\n",
       "    </tr>\n",
       "    <tr>\n",
       "      <th>22</th>\n",
       "      <td>Caazapa</td>\n",
       "      <td>4.418828</td>\n",
       "    </tr>\n",
       "    <tr>\n",
       "      <th>23</th>\n",
       "      <td>Capitan Meza</td>\n",
       "      <td>4.585891</td>\n",
       "    </tr>\n",
       "    <tr>\n",
       "      <th>24</th>\n",
       "      <td>Capitan Miranda</td>\n",
       "      <td>4.918886</td>\n",
       "    </tr>\n",
       "    <tr>\n",
       "      <th>25</th>\n",
       "      <td>Encarnacion</td>\n",
       "      <td>4.876740</td>\n",
       "    </tr>\n",
       "  </tbody>\n",
       "</table>\n",
       "</div>"
      ],
      "text/plain": [
       "                omm_id      prcp\n",
       "0          Adrian Jara  2.757735\n",
       "1          Bahia Negra  2.797225\n",
       "2          Pratts Gill  1.796727\n",
       "3   Mcal. Estigarribia  2.101215\n",
       "4        Puerto Casado  3.601639\n",
       "5      P. J. Caballero  4.530712\n",
       "6   Primero sin nombre  3.031293\n",
       "7        Pozo Colorado  3.131008\n",
       "8           Concepcion  3.774101\n",
       "9        Gral. Bruguez  3.439473\n",
       "10           San Pedro  4.011414\n",
       "11      San Estanislao  4.377139\n",
       "12    Salto del Guaira  4.682335\n",
       "13    Silvio Pettirosi  3.802125\n",
       "14           Paraguari  4.055172\n",
       "15          Villarrica  4.558434\n",
       "16        Cnel. Oviedo  4.957976\n",
       "17  Aeropuerto Guarani  5.052463\n",
       "18  Segundo sin nombre  4.924793\n",
       "19            Quyquyho  4.684686\n",
       "20               Pilar  3.942447\n",
       "21   San Juan Bautista  4.569325\n",
       "22             Caazapa  4.418828\n",
       "23        Capitan Meza  4.585891\n",
       "24     Capitan Miranda  4.918886\n",
       "25         Encarnacion  4.876740"
      ]
     },
     "execution_count": 92,
     "metadata": {},
     "output_type": "execute_result"
    }
   ],
   "source": [
    "prcp_mean.reset_index()"
   ]
  },
  {
   "cell_type": "markdown",
   "metadata": {},
   "source": [
    "#### Visualización de la distribución media de la precipitación "
   ]
  },
  {
   "cell_type": "code",
   "execution_count": 93,
   "metadata": {},
   "outputs": [
    {
     "data": {
      "text/plain": [
       "<AxesSubplot:ylabel='prcp'>"
      ]
     },
     "execution_count": 93,
     "metadata": {},
     "output_type": "execute_result"
    },
    {
     "data": {
      "image/png": "[encoded data removed]",
      "text/plain": [
       "<Figure size 576x576 with 1 Axes>"
      ]
     },
     "metadata": {},
     "output_type": "display_data"
    }
   ],
   "source": [
    "prcp_mean.plot.pie(y=\"prcp\", figsize=(8,8))"
   ]
  },
  {
   "cell_type": "markdown",
   "metadata": {},
   "source": [
    "#### O con un diagrama de barras"
   ]
  },
  {
   "cell_type": "code",
   "execution_count": 94,
   "metadata": {},
   "outputs": [
    {
     "data": {
      "text/plain": [
       "<AxesSubplot:xlabel='omm_id'>"
      ]
     },
     "execution_count": 94,
     "metadata": {},
     "output_type": "execute_result"
    },
    {
     "data": {
      "image/png": "[encoded data removed]",
      "text/plain": [
       "<Figure size 1008x432 with 1 Axes>"
      ]
     },
     "metadata": {
      "needs_background": "light"
     },
     "output_type": "display_data"
    }
   ],
   "source": [
    "prcp_mean.plot.bar(figsize=(14,6))"
   ]
  },
  {
   "cell_type": "markdown",
   "metadata": {},
   "source": [
    "***Como se puede observar, los gráficos no son muy representativos. Sería mejor hallar los promedios anuales por estación.***"
   ]
  },
  {
   "cell_type": "code",
   "execution_count": 102,
   "metadata": {},
   "outputs": [
    {
     "data": {
      "text/html": [
       "<div>\n",
       "<style scoped>\n",
       "    .dataframe tbody tr th:only-of-type {\n",
       "        vertical-align: middle;\n",
       "    }\n",
       "\n",
       "    .dataframe tbody tr th {\n",
       "        vertical-align: top;\n",
       "    }\n",
       "\n",
       "    .dataframe thead th {\n",
       "        text-align: right;\n",
       "    }\n",
       "</style>\n",
       "<table border=\"1\" class=\"dataframe\">\n",
       "  <thead>\n",
       "    <tr style=\"text-align: right;\">\n",
       "      <th></th>\n",
       "      <th>omm_id</th>\n",
       "      <th>fecha</th>\n",
       "      <th>prcp</th>\n",
       "    </tr>\n",
       "  </thead>\n",
       "  <tbody>\n",
       "    <tr>\n",
       "      <th>0</th>\n",
       "      <td>86011</td>\n",
       "      <td>1973-05-01</td>\n",
       "      <td>0.0</td>\n",
       "    </tr>\n",
       "    <tr>\n",
       "      <th>1</th>\n",
       "      <td>86011</td>\n",
       "      <td>1973-05-02</td>\n",
       "      <td>0.5</td>\n",
       "    </tr>\n",
       "    <tr>\n",
       "      <th>2</th>\n",
       "      <td>86011</td>\n",
       "      <td>1973-05-03</td>\n",
       "      <td>0.0</td>\n",
       "    </tr>\n",
       "    <tr>\n",
       "      <th>3</th>\n",
       "      <td>86011</td>\n",
       "      <td>1973-05-04</td>\n",
       "      <td>0.0</td>\n",
       "    </tr>\n",
       "    <tr>\n",
       "      <th>4</th>\n",
       "      <td>86011</td>\n",
       "      <td>1973-05-05</td>\n",
       "      <td>0.0</td>\n",
       "    </tr>\n",
       "    <tr>\n",
       "      <th>5</th>\n",
       "      <td>86011</td>\n",
       "      <td>1973-05-06</td>\n",
       "      <td>0.0</td>\n",
       "    </tr>\n",
       "    <tr>\n",
       "      <th>6</th>\n",
       "      <td>86011</td>\n",
       "      <td>1973-05-07</td>\n",
       "      <td>0.0</td>\n",
       "    </tr>\n",
       "    <tr>\n",
       "      <th>7</th>\n",
       "      <td>86011</td>\n",
       "      <td>1973-05-08</td>\n",
       "      <td>0.0</td>\n",
       "    </tr>\n",
       "    <tr>\n",
       "      <th>8</th>\n",
       "      <td>86011</td>\n",
       "      <td>1973-05-09</td>\n",
       "      <td>0.0</td>\n",
       "    </tr>\n",
       "    <tr>\n",
       "      <th>9</th>\n",
       "      <td>86011</td>\n",
       "      <td>1973-05-10</td>\n",
       "      <td>0.0</td>\n",
       "    </tr>\n",
       "  </tbody>\n",
       "</table>\n",
       "</div>"
      ],
      "text/plain": [
       "   omm_id      fecha  prcp\n",
       "0   86011 1973-05-01   0.0\n",
       "1   86011 1973-05-02   0.5\n",
       "2   86011 1973-05-03   0.0\n",
       "3   86011 1973-05-04   0.0\n",
       "4   86011 1973-05-05   0.0\n",
       "5   86011 1973-05-06   0.0\n",
       "6   86011 1973-05-07   0.0\n",
       "7   86011 1973-05-08   0.0\n",
       "8   86011 1973-05-09   0.0\n",
       "9   86011 1973-05-10   0.0"
      ]
     },
     "execution_count": 102,
     "metadata": {},
     "output_type": "execute_result"
    }
   ],
   "source": [
    "prcp_con_fecha = data[['omm_id', 'fecha', 'prcp']]\n",
    "prcp_con_fecha.head(10)"
   ]
  },
  {
   "cell_type": "markdown",
   "metadata": {},
   "source": [
    "#### Obtenemos cada una de las estaciones"
   ]
  },
  {
   "cell_type": "code",
   "execution_count": 128,
   "metadata": {},
   "outputs": [],
   "source": [
    "# dividimos el dataframe por grupos de la variable nominal omm_id\n",
    "grupos = prcp_con_fecha.groupby(by=['omm_id'])\n",
    "# obtencion de todos los dataframe por estación\n",
    "est_adrian_jara       = grupos.get_group(86011)\n",
    "est_bahia_negra       = grupos.get_group(86033)\n",
    "est_pratt_gill        = grupos.get_group(86065)\n",
    "est_mcal_estig        = grupos.get_group(86068)\n",
    "est_puerto_casado     = grupos.get_group(86086)\n",
    "est_p_j_caballero     = grupos.get_group(86097)\n",
    "est_pozo_colorado     = grupos.get_group(86128)\n",
    "est_concepcion        = grupos.get_group(86134)\n",
    "est_gral_bruguez      = grupos.get_group(86170)\n",
    "est_san_pedro         = grupos.get_group(86185)\n",
    "est_san_estanislao    = grupos.get_group(86192)\n",
    "est_salto_del_guaira  = grupos.get_group(86210)\n",
    "est_silvio_pettirosi  = grupos.get_group(86218)\n",
    "est_paraguari         = grupos.get_group(86221)\n",
    "est_villarrica        = grupos.get_group(86233)\n",
    "est_cnel_oviedo       = grupos.get_group(86234)\n",
    "est_aer_guarani       = grupos.get_group(86246)\n",
    "est_quyquyho          = grupos.get_group(86251)\n",
    "est_pilar             = grupos.get_group(86255)\n",
    "est_juan_bautista     = grupos.get_group(86260)\n",
    "est_caazapa           = grupos.get_group(86268)\n",
    "est_capt_meza         = grupos.get_group(86068)\n",
    "est_capt_miranda      = grupos.get_group(86068)\n",
    "est_encarnacion       = grupos.get_group(86068)"
   ]
  },
  {
   "cell_type": "markdown",
   "metadata": {},
   "source": [
    "#### Eliminamos la columna omm_id que ya no nos sirve"
   ]
  },
  {
   "cell_type": "code",
   "execution_count": 129,
   "metadata": {},
   "outputs": [],
   "source": [
    "est_adrian_jara       = est_adrian_jara.drop(['omm_id'], axis=1)\n",
    "est_bahia_negra       = est_bahia_negra.drop(['omm_id'], axis=1)\n",
    "est_pratt_gill        = est_pratt_gill.drop(['omm_id'], axis=1)\n",
    "est_mcal_estig        = est_mcal_estig.drop(['omm_id'], axis=1)\n",
    "est_puerto_casado     = est_puerto_casado.drop(['omm_id'], axis=1)\n",
    "est_p_j_caballero     = est_p_j_caballero.drop(['omm_id'], axis=1)\n",
    "est_pozo_colorado     = est_pozo_colorado.drop(['omm_id'], axis=1)\n",
    "est_concepcion        = est_concepcion.drop(['omm_id'], axis=1)\n",
    "est_gral_bruguez      = est_gral_bruguez.drop(['omm_id'], axis=1)\n",
    "est_san_pedro         = est_san_pedro.drop(['omm_id'], axis=1)\n",
    "est_san_estanislao    = est_san_estanislao.drop(['omm_id'], axis=1)\n",
    "est_salto_del_guaira  = est_salto_del_guaira.drop(['omm_id'], axis=1)\n",
    "est_silvio_pettirosi  = est_silvio_pettirosi.drop(['omm_id'], axis=1)\n",
    "est_paraguari         = est_paraguari.drop(['omm_id'], axis=1)\n",
    "est_villarrica        = est_villarrica.drop(['omm_id'], axis=1)\n",
    "est_cnel_oviedo       = est_cnel_oviedo.drop(['omm_id'], axis=1)\n",
    "est_aer_guarani       = est_aer_guarani.drop(['omm_id'], axis=1)\n",
    "est_quyquyho          = est_quyquyho.drop(['omm_id'], axis=1)\n",
    "est_pilar             = est_pilar.drop(['omm_id'], axis=1)\n",
    "est_juan_bautista     = est_juan_bautista.drop(['omm_id'], axis=1)\n",
    "est_caazapa           = est_caazapa.drop(['omm_id'], axis=1)\n",
    "est_capt_meza         = est_capt_meza.drop(['omm_id'], axis=1)\n",
    "est_capt_miranda      = est_capt_miranda.drop(['omm_id'], axis=1)\n",
    "est_encarnacion       = est_encarnacion.drop(['omm_id'], axis=1)"
   ]
  },
  {
   "cell_type": "markdown",
   "metadata": {},
   "source": [
    "#### Calculamos los acumulados anuales por estación"
   ]
  },
  {
   "cell_type": "code",
   "execution_count": 131,
   "metadata": {},
   "outputs": [],
   "source": [
    "est_adrian_jara_anual       = est_adrian_jara.resample('Y', on='fecha').sum()\n",
    "est_bahia_negra_anual       = est_bahia_negra.resample('Y', on='fecha').sum()\n",
    "est_pratt_gill_anual        = est_pratt_gill.resample('Y', on='fecha').sum()\n",
    "est_mcal_estig_anual        = est_mcal_estig.resample('Y', on='fecha').sum()\n",
    "est_puerto_casado_anual     = est_puerto_casado.resample('Y', on='fecha').sum()\n",
    "est_p_j_caballero_anual     = est_p_j_caballero.resample('Y', on='fecha').sum()\n",
    "est_pozo_colorado_anual     = est_pozo_colorado.resample('Y', on='fecha').sum()\n",
    "est_concepcion_anual        = est_concepcion.resample('Y', on='fecha').sum()\n",
    "est_gral_bruguez_anual      = est_gral_bruguez.resample('Y', on='fecha').sum()\n",
    "est_san_pedro_anual         = est_san_pedro.resample('Y', on='fecha').sum()\n",
    "est_san_estanislao_anual    = est_san_estanislao.resample('Y', on='fecha').sum()\n",
    "est_salto_del_guaira_anual  = est_salto_del_guaira.resample('Y', on='fecha').sum()\n",
    "est_silvio_pettirosi_anual  = est_silvio_pettirosi.resample('Y', on='fecha').sum()\n",
    "est_paraguari_anual         = est_paraguari.resample('Y', on='fecha').sum()\n",
    "est_villarrica_anual        = est_villarrica.resample('Y', on='fecha').sum()\n",
    "est_cnel_oviedo_anual       = est_cnel_oviedo.resample('Y', on='fecha').sum()\n",
    "est_aer_guarani_anual       = est_aer_guarani.resample('Y', on='fecha').sum()\n",
    "est_quyquyho_anual          = est_quyquyho.resample('Y', on='fecha').sum()\n",
    "est_pilar_anual             = est_pilar.resample('Y', on='fecha').sum()\n",
    "est_juan_bautista_anual     = est_juan_bautista.resample('Y', on='fecha').sum()\n",
    "est_caazapa_anual           = est_caazapa.resample('Y', on='fecha').sum()\n",
    "est_capt_meza_anual         = est_capt_meza.resample('Y', on='fecha').sum()\n",
    "est_capt_miranda_anual      = est_capt_miranda.resample('Y', on='fecha').sum()\n",
    "est_encarnacion_anual       = est_encarnacion.resample('Y', on='fecha').sum()"
   ]
  },
  {
   "cell_type": "code",
   "execution_count": 139,
   "metadata": {},
   "outputs": [
    {
     "data": {
      "text/plain": [
       "2.75773535791757"
      ]
     },
     "execution_count": 139,
     "metadata": {},
     "output_type": "execute_result"
    }
   ],
   "source": [
    "est_adrian_jara['prcp'].mean()"
   ]
  },
  {
   "cell_type": "markdown",
   "metadata": {},
   "source": [
    "#### Calculamos el promedio anual de cada estacion"
   ]
  },
  {
   "cell_type": "code",
   "execution_count": 151,
   "metadata": {},
   "outputs": [],
   "source": [
    "anuales = pd.DataFrame(columns=['Estacion', 'Precipitacion anual'])\n",
    "anuales = anuales.append({'Estacion':'Adrian Jara', 'Precipitacion anual':est_adrian_jara_anual['prcp'].mean()}, ignore_index=True)\n",
    "anuales = anuales.append({'Estacion':'Bahia Negra', 'Precipitacion anual':est_bahia_negra_anual['prcp'].mean()}, ignore_index=True)\n",
    "anuales = anuales.append({'Estacion':'Pratt Gill', 'Precipitacion anual':est_pratt_gill_anual['prcp'].mean()}, ignore_index=True)\n",
    "anuales = anuales.append({'Estacion':'Mcal. Estigarribia', 'Precipitacion anual':est_mcal_estig_anual['prcp'].mean()}, ignore_index=True)\n",
    "anuales = anuales.append({'Estacion':'Puerto Casado', 'Precipitacion anual':est_puerto_casado_anual['prcp'].mean()}, ignore_index=True)\n",
    "anuales = anuales.append({'Estacion':'P. J. Caballero', 'Precipitacion anual':est_p_j_caballero_anual['prcp'].mean()}, ignore_index=True)\n",
    "anuales = anuales.append({'Estacion':'Pozo Colorado', 'Precipitacion anual':est_pozo_colorado_anual['prcp'].mean()}, ignore_index=True)\n",
    "anuales = anuales.append({'Estacion':'Concepción', 'Precipitacion anual':est_concepcion_anual['prcp'].mean()}, ignore_index=True)\n",
    "anuales = anuales.append({'Estacion':'Gral. Bruguez', 'Precipitacion anual':est_gral_bruguez_anual['prcp'].mean()}, ignore_index=True)\n",
    "anuales = anuales.append({'Estacion':'San Pedro', 'Precipitacion anual':est_san_pedro_anual['prcp'].mean()}, ignore_index=True)\n",
    "anuales = anuales.append({'Estacion':'San Estanislao', 'Precipitacion anual':est_san_estanislao_anual['prcp'].mean()}, ignore_index=True)\n",
    "anuales = anuales.append({'Estacion':'Salto del Guaira', 'Precipitacion anual':est_salto_del_guaira_anual['prcp'].mean()}, ignore_index=True)\n",
    "anuales = anuales.append({'Estacion':'Silvio Pettirosi', 'Precipitacion anual':est_silvio_pettirosi_anual['prcp'].mean()}, ignore_index=True)\n",
    "anuales = anuales.append({'Estacion':'Paraguari', 'Precipitacion anual':est_paraguari_anual['prcp'].mean()}, ignore_index=True)\n",
    "anuales = anuales.append({'Estacion':'Villarrica', 'Precipitacion anual':est_villarrica_anual['prcp'].mean()}, ignore_index=True)\n",
    "anuales = anuales.append({'Estacion':'Cnel. Oviedo', 'Precipitacion anual':est_cnel_oviedo_anual['prcp'].mean()}, ignore_index=True)\n",
    "anuales = anuales.append({'Estacion':'Aeropuerto Guarani', 'Precipitacion anual':est_aer_guarani_anual['prcp'].mean()}, ignore_index=True)\n",
    "anuales = anuales.append({'Estacion':'Quyquyho', 'Precipitacion anual':est_quyquyho_anual['prcp'].mean()}, ignore_index=True)\n",
    "anuales = anuales.append({'Estacion':'Pilar', 'Precipitacion anual':est_pilar_anual['prcp'].mean()}, ignore_index=True)\n",
    "anuales = anuales.append({'Estacion':'San Juan Bautista', 'Precipitacion anual':est_juan_bautista_anual['prcp'].mean()}, ignore_index=True)\n",
    "anuales = anuales.append({'Estacion':'Caazapa', 'Precipitacion anual':est_caazapa_anual['prcp'].mean()}, ignore_index=True)\n",
    "anuales = anuales.append({'Estacion':'Capt. Meza', 'Precipitacion anual':est_capt_meza_anual['prcp'].mean()}, ignore_index=True)\n",
    "anuales = anuales.append({'Estacion':'Capt. Miranda', 'Precipitacion anual':est_capt_miranda_anual['prcp'].mean()}, ignore_index=True)\n",
    "anuales = anuales.append({'Estacion':'Encarnación', 'Precipitacion anual':est_encarnacion_anual['prcp'].mean()}, ignore_index=True)"
   ]
  },
  {
   "cell_type": "markdown",
   "metadata": {},
   "source": [
    "#### Dataframe que contiene las precipitaciones anuales por estación"
   ]
  },
  {
   "cell_type": "code",
   "execution_count": 152,
   "metadata": {},
   "outputs": [
    {
     "data": {
      "text/html": [
       "<div>\n",
       "<style scoped>\n",
       "    .dataframe tbody tr th:only-of-type {\n",
       "        vertical-align: middle;\n",
       "    }\n",
       "\n",
       "    .dataframe tbody tr th {\n",
       "        vertical-align: top;\n",
       "    }\n",
       "\n",
       "    .dataframe thead th {\n",
       "        text-align: right;\n",
       "    }\n",
       "</style>\n",
       "<table border=\"1\" class=\"dataframe\">\n",
       "  <thead>\n",
       "    <tr style=\"text-align: right;\">\n",
       "      <th></th>\n",
       "      <th>Estacion</th>\n",
       "      <th>Precipitacion anual</th>\n",
       "    </tr>\n",
       "  </thead>\n",
       "  <tbody>\n",
       "    <tr>\n",
       "      <th>0</th>\n",
       "      <td>Adrian Jara</td>\n",
       "      <td>775.192683</td>\n",
       "    </tr>\n",
       "    <tr>\n",
       "      <th>1</th>\n",
       "      <td>Bahia Negra</td>\n",
       "      <td>684.633962</td>\n",
       "    </tr>\n",
       "    <tr>\n",
       "      <th>2</th>\n",
       "      <td>Pratt Gill</td>\n",
       "      <td>479.976744</td>\n",
       "    </tr>\n",
       "    <tr>\n",
       "      <th>3</th>\n",
       "      <td>Mcal. Estigarribia</td>\n",
       "      <td>749.118333</td>\n",
       "    </tr>\n",
       "    <tr>\n",
       "      <th>4</th>\n",
       "      <td>Puerto Casado</td>\n",
       "      <td>1288.906667</td>\n",
       "    </tr>\n",
       "    <tr>\n",
       "      <th>5</th>\n",
       "      <td>P. J. Caballero</td>\n",
       "      <td>1550.485000</td>\n",
       "    </tr>\n",
       "    <tr>\n",
       "      <th>6</th>\n",
       "      <td>Pozo Colorado</td>\n",
       "      <td>1109.942308</td>\n",
       "    </tr>\n",
       "    <tr>\n",
       "      <th>7</th>\n",
       "      <td>Concepción</td>\n",
       "      <td>1375.408333</td>\n",
       "    </tr>\n",
       "    <tr>\n",
       "      <th>8</th>\n",
       "      <td>Gral. Bruguez</td>\n",
       "      <td>1241.531034</td>\n",
       "    </tr>\n",
       "    <tr>\n",
       "      <th>9</th>\n",
       "      <td>San Pedro</td>\n",
       "      <td>1386.314815</td>\n",
       "    </tr>\n",
       "    <tr>\n",
       "      <th>10</th>\n",
       "      <td>San Estanislao</td>\n",
       "      <td>1376.515217</td>\n",
       "    </tr>\n",
       "    <tr>\n",
       "      <th>11</th>\n",
       "      <td>Salto del Guaira</td>\n",
       "      <td>1502.215217</td>\n",
       "    </tr>\n",
       "    <tr>\n",
       "      <th>12</th>\n",
       "      <td>Silvio Pettirosi</td>\n",
       "      <td>1288.413333</td>\n",
       "    </tr>\n",
       "    <tr>\n",
       "      <th>13</th>\n",
       "      <td>Paraguari</td>\n",
       "      <td>992.807500</td>\n",
       "    </tr>\n",
       "    <tr>\n",
       "      <th>14</th>\n",
       "      <td>Villarrica</td>\n",
       "      <td>1661.473333</td>\n",
       "    </tr>\n",
       "    <tr>\n",
       "      <th>15</th>\n",
       "      <td>Cnel. Oviedo</td>\n",
       "      <td>1228.884000</td>\n",
       "    </tr>\n",
       "    <tr>\n",
       "      <th>16</th>\n",
       "      <td>Aeropuerto Guarani</td>\n",
       "      <td>1798.887500</td>\n",
       "    </tr>\n",
       "    <tr>\n",
       "      <th>17</th>\n",
       "      <td>Quyquyho</td>\n",
       "      <td>1682.471429</td>\n",
       "    </tr>\n",
       "    <tr>\n",
       "      <th>18</th>\n",
       "      <td>Pilar</td>\n",
       "      <td>1398.911667</td>\n",
       "    </tr>\n",
       "    <tr>\n",
       "      <th>19</th>\n",
       "      <td>San Juan Bautista</td>\n",
       "      <td>1634.600000</td>\n",
       "    </tr>\n",
       "    <tr>\n",
       "      <th>20</th>\n",
       "      <td>Caazapa</td>\n",
       "      <td>1549.443750</td>\n",
       "    </tr>\n",
       "    <tr>\n",
       "      <th>21</th>\n",
       "      <td>Capt. Meza</td>\n",
       "      <td>749.118333</td>\n",
       "    </tr>\n",
       "    <tr>\n",
       "      <th>22</th>\n",
       "      <td>Capt. Miranda</td>\n",
       "      <td>749.118333</td>\n",
       "    </tr>\n",
       "    <tr>\n",
       "      <th>23</th>\n",
       "      <td>Encarnación</td>\n",
       "      <td>749.118333</td>\n",
       "    </tr>\n",
       "  </tbody>\n",
       "</table>\n",
       "</div>"
      ],
      "text/plain": [
       "              Estacion  Precipitacion anual\n",
       "0          Adrian Jara           775.192683\n",
       "1          Bahia Negra           684.633962\n",
       "2           Pratt Gill           479.976744\n",
       "3   Mcal. Estigarribia           749.118333\n",
       "4        Puerto Casado          1288.906667\n",
       "5      P. J. Caballero          1550.485000\n",
       "6        Pozo Colorado          1109.942308\n",
       "7           Concepción          1375.408333\n",
       "8        Gral. Bruguez          1241.531034\n",
       "9            San Pedro          1386.314815\n",
       "10      San Estanislao          1376.515217\n",
       "11    Salto del Guaira          1502.215217\n",
       "12    Silvio Pettirosi          1288.413333\n",
       "13           Paraguari           992.807500\n",
       "14          Villarrica          1661.473333\n",
       "15        Cnel. Oviedo          1228.884000\n",
       "16  Aeropuerto Guarani          1798.887500\n",
       "17            Quyquyho          1682.471429\n",
       "18               Pilar          1398.911667\n",
       "19   San Juan Bautista          1634.600000\n",
       "20             Caazapa          1549.443750\n",
       "21          Capt. Meza           749.118333\n",
       "22       Capt. Miranda           749.118333\n",
       "23         Encarnación           749.118333"
      ]
     },
     "execution_count": 152,
     "metadata": {},
     "output_type": "execute_result"
    }
   ],
   "source": [
    "anuales"
   ]
  },
  {
   "cell_type": "markdown",
   "metadata": {},
   "source": [
    "#### Visualización por medio de un diagrama de torta"
   ]
  },
  {
   "cell_type": "code",
   "execution_count": 153,
   "metadata": {},
   "outputs": [
    {
     "data": {
      "text/plain": [
       "<AxesSubplot:ylabel='Precipitacion anual'>"
      ]
     },
     "execution_count": 153,
     "metadata": {},
     "output_type": "execute_result"
    },
    {
     "data": {
      "image/png": "[encoded data removed]",
      "text/plain": [
       "<Figure size 864x864 with 1 Axes>"
      ]
     },
     "metadata": {},
     "output_type": "display_data"
    }
   ],
   "source": [
    "anuales.set_index('Estacion').plot.pie(y='Precipitacion anual', figsize=(12,12))"
   ]
  },
  {
   "cell_type": "markdown",
   "metadata": {},
   "source": [
    "#### Visualización con diagrama de barras"
   ]
  },
  {
   "cell_type": "code",
   "execution_count": 154,
   "metadata": {},
   "outputs": [
    {
     "data": {
      "text/plain": [
       "<AxesSubplot:xlabel='Estacion'>"
      ]
     },
     "execution_count": 154,
     "metadata": {},
     "output_type": "execute_result"
    },
    {
     "data": {
      "image/png": "[encoded data removed]",
      "text/plain": [
       "<Figure size 864x432 with 1 Axes>"
      ]
     },
     "metadata": {
      "needs_background": "light"
     },
     "output_type": "display_data"
    }
   ],
   "source": [
    "anuales.plot.bar(x='Estacion', y='Precipitacion anual', figsize=(12,6))"
   ]
  },
  {
   "cell_type": "markdown",
   "metadata": {},
   "source": [
    "### Promedio de nubosidad por estación"
   ]
  },
  {
   "cell_type": "code",
   "execution_count": 83,
   "metadata": {},
   "outputs": [
    {
     "data": {
      "text/html": [
       "<div>\n",
       "<style scoped>\n",
       "    .dataframe tbody tr th:only-of-type {\n",
       "        vertical-align: middle;\n",
       "    }\n",
       "\n",
       "    .dataframe tbody tr th {\n",
       "        vertical-align: top;\n",
       "    }\n",
       "\n",
       "    .dataframe thead th {\n",
       "        text-align: right;\n",
       "    }\n",
       "</style>\n",
       "<table border=\"1\" class=\"dataframe\">\n",
       "  <thead>\n",
       "    <tr style=\"text-align: right;\">\n",
       "      <th></th>\n",
       "      <th>omm_id</th>\n",
       "      <th>nub</th>\n",
       "    </tr>\n",
       "  </thead>\n",
       "  <tbody>\n",
       "    <tr>\n",
       "      <th>0</th>\n",
       "      <td>86011</td>\n",
       "      <td>4.0</td>\n",
       "    </tr>\n",
       "    <tr>\n",
       "      <th>1</th>\n",
       "      <td>86011</td>\n",
       "      <td>7.0</td>\n",
       "    </tr>\n",
       "    <tr>\n",
       "      <th>2</th>\n",
       "      <td>86011</td>\n",
       "      <td>8.0</td>\n",
       "    </tr>\n",
       "    <tr>\n",
       "      <th>3</th>\n",
       "      <td>86011</td>\n",
       "      <td>7.0</td>\n",
       "    </tr>\n",
       "    <tr>\n",
       "      <th>4</th>\n",
       "      <td>86011</td>\n",
       "      <td>5.0</td>\n",
       "    </tr>\n",
       "    <tr>\n",
       "      <th>5</th>\n",
       "      <td>86011</td>\n",
       "      <td>7.0</td>\n",
       "    </tr>\n",
       "    <tr>\n",
       "      <th>6</th>\n",
       "      <td>86011</td>\n",
       "      <td>8.0</td>\n",
       "    </tr>\n",
       "    <tr>\n",
       "      <th>7</th>\n",
       "      <td>86011</td>\n",
       "      <td>6.0</td>\n",
       "    </tr>\n",
       "    <tr>\n",
       "      <th>8</th>\n",
       "      <td>86011</td>\n",
       "      <td>7.0</td>\n",
       "    </tr>\n",
       "    <tr>\n",
       "      <th>9</th>\n",
       "      <td>86011</td>\n",
       "      <td>8.0</td>\n",
       "    </tr>\n",
       "  </tbody>\n",
       "</table>\n",
       "</div>"
      ],
      "text/plain": [
       "   omm_id  nub\n",
       "0   86011  4.0\n",
       "1   86011  7.0\n",
       "2   86011  8.0\n",
       "3   86011  7.0\n",
       "4   86011  5.0\n",
       "5   86011  7.0\n",
       "6   86011  8.0\n",
       "7   86011  6.0\n",
       "8   86011  7.0\n",
       "9   86011  8.0"
      ]
     },
     "execution_count": 83,
     "metadata": {},
     "output_type": "execute_result"
    }
   ],
   "source": [
    "nub = data[['omm_id', 'nub']]\n",
    "nub.head(10)"
   ]
  },
  {
   "cell_type": "code",
   "execution_count": 95,
   "metadata": {},
   "outputs": [
    {
     "data": {
      "text/html": [
       "<div>\n",
       "<style scoped>\n",
       "    .dataframe tbody tr th:only-of-type {\n",
       "        vertical-align: middle;\n",
       "    }\n",
       "\n",
       "    .dataframe tbody tr th {\n",
       "        vertical-align: top;\n",
       "    }\n",
       "\n",
       "    .dataframe thead th {\n",
       "        text-align: right;\n",
       "    }\n",
       "</style>\n",
       "<table border=\"1\" class=\"dataframe\">\n",
       "  <thead>\n",
       "    <tr style=\"text-align: right;\">\n",
       "      <th></th>\n",
       "      <th>omm_id</th>\n",
       "      <th>nub</th>\n",
       "    </tr>\n",
       "  </thead>\n",
       "  <tbody>\n",
       "    <tr>\n",
       "      <th>0</th>\n",
       "      <td>Adrian Jara</td>\n",
       "      <td>4.115083</td>\n",
       "    </tr>\n",
       "    <tr>\n",
       "      <th>1</th>\n",
       "      <td>Bahia Negra</td>\n",
       "      <td>3.762002</td>\n",
       "    </tr>\n",
       "    <tr>\n",
       "      <th>2</th>\n",
       "      <td>Pratts Gill</td>\n",
       "      <td>4.305009</td>\n",
       "    </tr>\n",
       "    <tr>\n",
       "      <th>3</th>\n",
       "      <td>Mcal. Estigarribia</td>\n",
       "      <td>4.332178</td>\n",
       "    </tr>\n",
       "    <tr>\n",
       "      <th>4</th>\n",
       "      <td>Puerto Casado</td>\n",
       "      <td>4.212307</td>\n",
       "    </tr>\n",
       "    <tr>\n",
       "      <th>5</th>\n",
       "      <td>P. J. Caballero</td>\n",
       "      <td>4.352979</td>\n",
       "    </tr>\n",
       "    <tr>\n",
       "      <th>6</th>\n",
       "      <td>Primero sin nombre</td>\n",
       "      <td>3.940095</td>\n",
       "    </tr>\n",
       "    <tr>\n",
       "      <th>7</th>\n",
       "      <td>Pozo Colorado</td>\n",
       "      <td>3.738017</td>\n",
       "    </tr>\n",
       "    <tr>\n",
       "      <th>8</th>\n",
       "      <td>Concepcion</td>\n",
       "      <td>3.976776</td>\n",
       "    </tr>\n",
       "    <tr>\n",
       "      <th>9</th>\n",
       "      <td>Gral. Bruguez</td>\n",
       "      <td>4.122087</td>\n",
       "    </tr>\n",
       "    <tr>\n",
       "      <th>10</th>\n",
       "      <td>San Pedro</td>\n",
       "      <td>3.899184</td>\n",
       "    </tr>\n",
       "    <tr>\n",
       "      <th>11</th>\n",
       "      <td>San Estanislao</td>\n",
       "      <td>3.762135</td>\n",
       "    </tr>\n",
       "    <tr>\n",
       "      <th>12</th>\n",
       "      <td>Salto del Guaira</td>\n",
       "      <td>3.658364</td>\n",
       "    </tr>\n",
       "    <tr>\n",
       "      <th>13</th>\n",
       "      <td>Silvio Pettirosi</td>\n",
       "      <td>3.924673</td>\n",
       "    </tr>\n",
       "    <tr>\n",
       "      <th>14</th>\n",
       "      <td>Paraguari</td>\n",
       "      <td>3.252452</td>\n",
       "    </tr>\n",
       "    <tr>\n",
       "      <th>15</th>\n",
       "      <td>Villarrica</td>\n",
       "      <td>3.580519</td>\n",
       "    </tr>\n",
       "    <tr>\n",
       "      <th>16</th>\n",
       "      <td>Cnel. Oviedo</td>\n",
       "      <td>3.948361</td>\n",
       "    </tr>\n",
       "    <tr>\n",
       "      <th>17</th>\n",
       "      <td>Aeropuerto Guarani</td>\n",
       "      <td>3.995312</td>\n",
       "    </tr>\n",
       "    <tr>\n",
       "      <th>18</th>\n",
       "      <td>Segundo sin nombre</td>\n",
       "      <td>4.327770</td>\n",
       "    </tr>\n",
       "    <tr>\n",
       "      <th>19</th>\n",
       "      <td>Quyquyho</td>\n",
       "      <td>4.107625</td>\n",
       "    </tr>\n",
       "    <tr>\n",
       "      <th>20</th>\n",
       "      <td>Pilar</td>\n",
       "      <td>3.568637</td>\n",
       "    </tr>\n",
       "    <tr>\n",
       "      <th>21</th>\n",
       "      <td>San Juan Bautista</td>\n",
       "      <td>3.850827</td>\n",
       "    </tr>\n",
       "    <tr>\n",
       "      <th>22</th>\n",
       "      <td>Caazapa</td>\n",
       "      <td>4.011731</td>\n",
       "    </tr>\n",
       "  </tbody>\n",
       "</table>\n",
       "</div>"
      ],
      "text/plain": [
       "                omm_id       nub\n",
       "0          Adrian Jara  4.115083\n",
       "1          Bahia Negra  3.762002\n",
       "2          Pratts Gill  4.305009\n",
       "3   Mcal. Estigarribia  4.332178\n",
       "4        Puerto Casado  4.212307\n",
       "5      P. J. Caballero  4.352979\n",
       "6   Primero sin nombre  3.940095\n",
       "7        Pozo Colorado  3.738017\n",
       "8           Concepcion  3.976776\n",
       "9        Gral. Bruguez  4.122087\n",
       "10           San Pedro  3.899184\n",
       "11      San Estanislao  3.762135\n",
       "12    Salto del Guaira  3.658364\n",
       "13    Silvio Pettirosi  3.924673\n",
       "14           Paraguari  3.252452\n",
       "15          Villarrica  3.580519\n",
       "16        Cnel. Oviedo  3.948361\n",
       "17  Aeropuerto Guarani  3.995312\n",
       "18  Segundo sin nombre  4.327770\n",
       "19            Quyquyho  4.107625\n",
       "20               Pilar  3.568637\n",
       "21   San Juan Bautista  3.850827\n",
       "22             Caazapa  4.011731"
      ]
     },
     "execution_count": 95,
     "metadata": {},
     "output_type": "execute_result"
    }
   ],
   "source": [
    "nub_mean = nub.groupby(by='omm_id').mean()\n",
    "nub_mean.index = nub_mean.index.map({\n",
    "    86011 : 'Adrian Jara',\n",
    "    86033 : 'Bahia Negra',\n",
    "    86065 : 'Pratts Gill',\n",
    "    86068 : 'Mcal. Estigarribia',\n",
    "    86086 : 'Puerto Casado',\n",
    "    86097 : 'P. J. Caballero',\n",
    "    86125 : 'Primero sin nombre',\n",
    "    86128 : 'Pozo Colorado',\n",
    "    86134 : 'Concepcion',\n",
    "    86170 : 'Gral. Bruguez',\n",
    "    86185 : 'San Pedro',\n",
    "    86192 : 'San Estanislao',\n",
    "    86210 : 'Salto del Guaira',\n",
    "    86218 : 'Silvio Pettirosi',\n",
    "    86221 : 'Paraguari',\n",
    "    86233 : 'Villarrica',\n",
    "    86234 : 'Cnel. Oviedo',\n",
    "    86246 : 'Aeropuerto Guarani',\n",
    "    86248 : 'Segundo sin nombre',\n",
    "    86251 : 'Quyquyho',\n",
    "    86255 : 'Pilar',\n",
    "    86260 : 'San Juan Bautista',\n",
    "    86268 : 'Caazapa',\n",
    "    86285 : 'Capitan Meza',\n",
    "    86294 : 'Capitan Miranda',\n",
    "    86297 : 'Encarnacion',\n",
    "})\n",
    "nub_mean = nub_mean.reset_index()\n",
    "nub_mean.head(23)"
   ]
  },
  {
   "cell_type": "markdown",
   "metadata": {},
   "source": [
    "### Visualizacion de la nubosidad promedio por estación"
   ]
  },
  {
   "cell_type": "code",
   "execution_count": 96,
   "metadata": {},
   "outputs": [
    {
     "data": {
      "text/plain": [
       "<AxesSubplot:xlabel='omm_id'>"
      ]
     },
     "execution_count": 96,
     "metadata": {},
     "output_type": "execute_result"
    },
    {
     "data": {
      "image/png": "[encoded data removed]",
      "text/plain": [
       "<Figure size 1008x432 with 1 Axes>"
      ]
     },
     "metadata": {
      "needs_background": "light"
     },
     "output_type": "display_data"
    }
   ],
   "source": [
    "nub_mean.plot.bar(x='omm_id', y='nub', figsize=(14,6))"
   ]
  },
  {
   "cell_type": "markdown",
   "metadata": {},
   "source": [
    "### Visualizacion del número de observaciones por estación"
   ]
  },
  {
   "cell_type": "code",
   "execution_count": 49,
   "metadata": {},
   "outputs": [
    {
     "data": {
      "text/html": [
       "<div>\n",
       "<style scoped>\n",
       "    .dataframe tbody tr th:only-of-type {\n",
       "        vertical-align: middle;\n",
       "    }\n",
       "\n",
       "    .dataframe tbody tr th {\n",
       "        vertical-align: top;\n",
       "    }\n",
       "\n",
       "    .dataframe thead th {\n",
       "        text-align: right;\n",
       "    }\n",
       "</style>\n",
       "<table border=\"1\" class=\"dataframe\">\n",
       "  <thead>\n",
       "    <tr style=\"text-align: right;\">\n",
       "      <th></th>\n",
       "      <th>omm_id</th>\n",
       "      <th>fecha</th>\n",
       "      <th>num_observaciones</th>\n",
       "    </tr>\n",
       "  </thead>\n",
       "  <tbody>\n",
       "    <tr>\n",
       "      <th>0</th>\n",
       "      <td>86011</td>\n",
       "      <td>1973-05-01</td>\n",
       "      <td>NaN</td>\n",
       "    </tr>\n",
       "    <tr>\n",
       "      <th>1</th>\n",
       "      <td>86011</td>\n",
       "      <td>1973-05-02</td>\n",
       "      <td>NaN</td>\n",
       "    </tr>\n",
       "    <tr>\n",
       "      <th>2</th>\n",
       "      <td>86011</td>\n",
       "      <td>1973-05-03</td>\n",
       "      <td>NaN</td>\n",
       "    </tr>\n",
       "    <tr>\n",
       "      <th>3</th>\n",
       "      <td>86011</td>\n",
       "      <td>1973-05-04</td>\n",
       "      <td>NaN</td>\n",
       "    </tr>\n",
       "    <tr>\n",
       "      <th>4</th>\n",
       "      <td>86011</td>\n",
       "      <td>1973-05-05</td>\n",
       "      <td>NaN</td>\n",
       "    </tr>\n",
       "    <tr>\n",
       "      <th>5</th>\n",
       "      <td>86011</td>\n",
       "      <td>1973-05-06</td>\n",
       "      <td>NaN</td>\n",
       "    </tr>\n",
       "    <tr>\n",
       "      <th>6</th>\n",
       "      <td>86011</td>\n",
       "      <td>1973-05-07</td>\n",
       "      <td>NaN</td>\n",
       "    </tr>\n",
       "    <tr>\n",
       "      <th>7</th>\n",
       "      <td>86011</td>\n",
       "      <td>1973-05-08</td>\n",
       "      <td>NaN</td>\n",
       "    </tr>\n",
       "    <tr>\n",
       "      <th>8</th>\n",
       "      <td>86011</td>\n",
       "      <td>1973-05-09</td>\n",
       "      <td>NaN</td>\n",
       "    </tr>\n",
       "    <tr>\n",
       "      <th>9</th>\n",
       "      <td>86011</td>\n",
       "      <td>1973-05-10</td>\n",
       "      <td>NaN</td>\n",
       "    </tr>\n",
       "  </tbody>\n",
       "</table>\n",
       "</div>"
      ],
      "text/plain": [
       "   omm_id      fecha  num_observaciones\n",
       "0   86011 1973-05-01                NaN\n",
       "1   86011 1973-05-02                NaN\n",
       "2   86011 1973-05-03                NaN\n",
       "3   86011 1973-05-04                NaN\n",
       "4   86011 1973-05-05                NaN\n",
       "5   86011 1973-05-06                NaN\n",
       "6   86011 1973-05-07                NaN\n",
       "7   86011 1973-05-08                NaN\n",
       "8   86011 1973-05-09                NaN\n",
       "9   86011 1973-05-10                NaN"
      ]
     },
     "execution_count": 49,
     "metadata": {},
     "output_type": "execute_result"
    }
   ],
   "source": [
    "observaciones = data[['omm_id', 'fecha', 'num_observaciones']]\n",
    "observaciones.head(10)"
   ]
  },
  {
   "cell_type": "markdown",
   "metadata": {},
   "source": [
    "#### Se corrige la columna num_observaciones"
   ]
  },
  {
   "cell_type": "markdown",
   "metadata": {},
   "source": [
    "Como solo se especifica el numero de observaciones en el caso de no cumplir con el total requerido, que es una observacion cada tres horas, lo corregimos reemplazando los valores NaN con la funcion fillna() de pd.DataFrame"
   ]
  },
  {
   "cell_type": "code",
   "execution_count": 53,
   "metadata": {},
   "outputs": [
    {
     "name": "stderr",
     "output_type": "stream",
     "text": [
      "<ipython-input-53-5452d48d1511>:4: SettingWithCopyWarning: \n",
      "A value is trying to be set on a copy of a slice from a DataFrame.\n",
      "Try using .loc[row_indexer,col_indexer] = value instead\n",
      "\n",
      "See the caveats in the documentation: https://pandas.pydata.org/pandas-docs/stable/user_guide/indexing.html#returning-a-view-versus-a-copy\n",
      "  observaciones['num_observaciones'] = observaciones['num_observaciones'].fillna(8)\n"
     ]
    },
    {
     "data": {
      "text/html": [
       "<div>\n",
       "<style scoped>\n",
       "    .dataframe tbody tr th:only-of-type {\n",
       "        vertical-align: middle;\n",
       "    }\n",
       "\n",
       "    .dataframe tbody tr th {\n",
       "        vertical-align: top;\n",
       "    }\n",
       "\n",
       "    .dataframe thead th {\n",
       "        text-align: right;\n",
       "    }\n",
       "</style>\n",
       "<table border=\"1\" class=\"dataframe\">\n",
       "  <thead>\n",
       "    <tr style=\"text-align: right;\">\n",
       "      <th></th>\n",
       "      <th>omm_id</th>\n",
       "      <th>fecha</th>\n",
       "      <th>num_observaciones</th>\n",
       "    </tr>\n",
       "  </thead>\n",
       "  <tbody>\n",
       "    <tr>\n",
       "      <th>0</th>\n",
       "      <td>86011</td>\n",
       "      <td>1973-05-01</td>\n",
       "      <td>8.0</td>\n",
       "    </tr>\n",
       "    <tr>\n",
       "      <th>1</th>\n",
       "      <td>86011</td>\n",
       "      <td>1973-05-02</td>\n",
       "      <td>8.0</td>\n",
       "    </tr>\n",
       "    <tr>\n",
       "      <th>2</th>\n",
       "      <td>86011</td>\n",
       "      <td>1973-05-03</td>\n",
       "      <td>8.0</td>\n",
       "    </tr>\n",
       "    <tr>\n",
       "      <th>3</th>\n",
       "      <td>86011</td>\n",
       "      <td>1973-05-04</td>\n",
       "      <td>8.0</td>\n",
       "    </tr>\n",
       "    <tr>\n",
       "      <th>4</th>\n",
       "      <td>86011</td>\n",
       "      <td>1973-05-05</td>\n",
       "      <td>8.0</td>\n",
       "    </tr>\n",
       "    <tr>\n",
       "      <th>5</th>\n",
       "      <td>86011</td>\n",
       "      <td>1973-05-06</td>\n",
       "      <td>8.0</td>\n",
       "    </tr>\n",
       "    <tr>\n",
       "      <th>6</th>\n",
       "      <td>86011</td>\n",
       "      <td>1973-05-07</td>\n",
       "      <td>8.0</td>\n",
       "    </tr>\n",
       "    <tr>\n",
       "      <th>7</th>\n",
       "      <td>86011</td>\n",
       "      <td>1973-05-08</td>\n",
       "      <td>8.0</td>\n",
       "    </tr>\n",
       "    <tr>\n",
       "      <th>8</th>\n",
       "      <td>86011</td>\n",
       "      <td>1973-05-09</td>\n",
       "      <td>8.0</td>\n",
       "    </tr>\n",
       "    <tr>\n",
       "      <th>9</th>\n",
       "      <td>86011</td>\n",
       "      <td>1973-05-10</td>\n",
       "      <td>8.0</td>\n",
       "    </tr>\n",
       "  </tbody>\n",
       "</table>\n",
       "</div>"
      ],
      "text/plain": [
       "   omm_id      fecha  num_observaciones\n",
       "0   86011 1973-05-01                8.0\n",
       "1   86011 1973-05-02                8.0\n",
       "2   86011 1973-05-03                8.0\n",
       "3   86011 1973-05-04                8.0\n",
       "4   86011 1973-05-05                8.0\n",
       "5   86011 1973-05-06                8.0\n",
       "6   86011 1973-05-07                8.0\n",
       "7   86011 1973-05-08                8.0\n",
       "8   86011 1973-05-09                8.0\n",
       "9   86011 1973-05-10                8.0"
      ]
     },
     "execution_count": 53,
     "metadata": {},
     "output_type": "execute_result"
    }
   ],
   "source": [
    "#for i in observaciones.index:\n",
    "#    if (observaciones['num_observaciones'][i] != observaciones['num_observaciones'][i]):\n",
    "#       observaciones['num_observaciones'][i] = 8\n",
    "observaciones['num_observaciones'] = observaciones['num_observaciones'].fillna(8)\n",
    "observaciones.head(10)"
   ]
  },
  {
   "cell_type": "markdown",
   "metadata": {},
   "source": [
    "**Con los valores ya corregidos**"
   ]
  },
  {
   "cell_type": "markdown",
   "metadata": {},
   "source": [
    "#### Gráfico Scatter de fecha vs numero de observaciones"
   ]
  },
  {
   "cell_type": "code",
   "execution_count": 58,
   "metadata": {},
   "outputs": [
    {
     "data": {
      "text/plain": [
       "<AxesSubplot:xlabel='fecha', ylabel='num_observaciones'>"
      ]
     },
     "execution_count": 58,
     "metadata": {},
     "output_type": "execute_result"
    },
    {
     "data": {
      "image/png": "[encoded data removed]",
      "text/plain": [
       "<Figure size 1008x432 with 1 Axes>"
      ]
     },
     "metadata": {
      "needs_background": "light"
     },
     "output_type": "display_data"
    }
   ],
   "source": [
    "observaciones.plot.scatter(x='fecha', y ='num_observaciones', figsize=(14,6))"
   ]
  },
  {
   "cell_type": "code",
   "execution_count": null,
   "metadata": {},
   "outputs": [],
   "source": []
  },
  {
   "cell_type": "code",
   "execution_count": null,
   "metadata": {},
   "outputs": [],
   "source": []
  },
  {
   "cell_type": "markdown",
   "metadata": {},
   "source": [
    "### Visualización de datos estadísticos básicos por columna (sin agrupar por estación)"
   ]
  },
  {
   "cell_type": "markdown",
   "metadata": {},
   "source": [
    "#### Medidas de localización y tendencia de la temperatura máxima histórica"
   ]
  },
  {
   "cell_type": "code",
   "execution_count": 24,
   "metadata": {},
   "outputs": [
    {
     "data": {
      "text/plain": [
       "<AxesSubplot:title={'center':'BoxPlot de Temperatura máxima'}>"
      ]
     },
     "execution_count": 24,
     "metadata": {},
     "output_type": "execute_result"
    },
    {
     "data": {
      "image/png": "[encoded data removed]",
      "text/plain": [
       "<Figure size 1008x432 with 1 Axes>"
      ]
     },
     "metadata": {
      "needs_background": "light"
     },
     "output_type": "display_data"
    }
   ],
   "source": [
    "# visualizacion de medidas de tendencia y localizacion para temperatura maxima\n",
    "data[\"tmax\"].plot(kind='box', vert=False, figsize=(14,6), title='BoxPlot de Temperatura máxima')"
   ]
  },
  {
   "cell_type": "markdown",
   "metadata": {},
   "source": [
    "#### Gráfico de densidad de la temperatura máxima histórica"
   ]
  },
  {
   "cell_type": "markdown",
   "metadata": {},
   "source": [
    "**Utiliza muchos recursos para su ejecución (consumo de CPU altísimo)**"
   ]
  },
  {
   "cell_type": "code",
   "execution_count": 29,
   "metadata": {},
   "outputs": [
    {
     "data": {
      "text/plain": [
       "<matplotlib.legend.Legend at 0x232c48ad580>"
      ]
     },
     "execution_count": 29,
     "metadata": {},
     "output_type": "execute_result"
    },
    {
     "data": {
      "image/png": "[encoded data removed]",
      "text/plain": [
       "<Figure size 1008x432 with 1 Axes>"
      ]
     },
     "metadata": {
      "needs_background": "light"
     },
     "output_type": "display_data"
    }
   ],
   "source": [
    "# grafico de densidad de la temperatura maxima\n",
    "dens_fig = data[\"tmax\"].plot(kind='density', figsize=(14,6), title='Densidad de la temperatura máxima')\n",
    "# inclusion de una recta vertical que representa a la media\n",
    "dens_fig.axvline(data[\"tmax\"].mean(), color='red')\n",
    "# inclusion de una recta vertical que representa a la mediana\n",
    "dens_fig.axvline(data[\"tmax\"].median(), color='green')\n",
    "# inclusion de una recta vertical que representa al minimo historico de la temperatura maxima\n",
    "dens_fig.axvline(data[\"tmax\"].min(), color='yellow')\n",
    "# inclusion de una recta vertical que representa al maximo historico de la temperatura maxima\n",
    "dens_fig.axvline(data[\"tmax\"].max(), color='orange')\n",
    "# incluimos las leyendas\n",
    "dens_fig.legend(['Densidad', 'Media', 'Mediana', 'Mínimo', 'Máximo'])"
   ]
  },
  {
   "cell_type": "markdown",
   "metadata": {},
   "source": [
    "#### Medidas de localización y tendencia de la temperatura mínima"
   ]
  },
  {
   "cell_type": "code",
   "execution_count": 25,
   "metadata": {
    "scrolled": false
   },
   "outputs": [
    {
     "data": {
      "text/plain": [
       "<AxesSubplot:title={'center':'BoxPlot de Temperatura mínima'}>"
      ]
     },
     "execution_count": 25,
     "metadata": {},
     "output_type": "execute_result"
    },
    {
     "data": {
      "image/png": "[encoded data removed]",
      "text/plain": [
       "<Figure size 1008x432 with 1 Axes>"
      ]
     },
     "metadata": {
      "needs_background": "light"
     },
     "output_type": "display_data"
    }
   ],
   "source": [
    "data[\"tmin\"].plot(kind='box', vert=False, figsize=(14,6), title='BoxPlot de Temperatura mínima')"
   ]
  },
  {
   "cell_type": "markdown",
   "metadata": {},
   "source": [
    "#### Gráfico de densidad de la temperatura mínima"
   ]
  },
  {
   "cell_type": "code",
   "execution_count": 26,
   "metadata": {},
   "outputs": [
    {
     "data": {
      "text/plain": [
       "<matplotlib.legend.Legend at 0x232c39e2a00>"
      ]
     },
     "execution_count": 26,
     "metadata": {},
     "output_type": "execute_result"
    },
    {
     "data": {
      "image/png": "[encoded data removed]",
      "text/plain": [
       "<Figure size 1008x432 with 1 Axes>"
      ]
     },
     "metadata": {
      "needs_background": "light"
     },
     "output_type": "display_data"
    }
   ],
   "source": [
    "# grafico de densidad de la temperatura mínima\n",
    "dens_fig = data[\"tmin\"].plot(kind='density', figsize=(14,6), title='Densidad de la temperatura mínima')\n",
    "dens_fig.axvline(data[\"tmin\"].mean(), color='red')\n",
    "dens_fig.axvline(data[\"tmin\"].median(), color='green')\n",
    "dens_fig.axvline(data[\"tmin\"].min(), color='yellow')\n",
    "dens_fig.axvline(data[\"tmin\"].max(), color='orange')\n",
    "dens_fig.legend(['Densidad', 'Media', 'Mediana', 'Mínimo', 'Máximo'])"
   ]
  },
  {
   "cell_type": "markdown",
   "metadata": {},
   "source": [
    "#### Medidas de locación y tendencia de la temperatura media."
   ]
  },
  {
   "cell_type": "code",
   "execution_count": 30,
   "metadata": {},
   "outputs": [
    {
     "data": {
      "text/plain": [
       "<AxesSubplot:title={'center':'BoxPlot de Temperatura media'}>"
      ]
     },
     "execution_count": 30,
     "metadata": {},
     "output_type": "execute_result"
    },
    {
     "data": {
      "image/png": "[encoded data removed]",
      "text/plain": [
       "<Figure size 1008x432 with 1 Axes>"
      ]
     },
     "metadata": {
      "needs_background": "light"
     },
     "output_type": "display_data"
    }
   ],
   "source": [
    "data[\"tmed\"].plot(kind='box', vert=False, figsize=(14,6), title='BoxPlot de Temperatura media')"
   ]
  },
  {
   "cell_type": "markdown",
   "metadata": {},
   "source": [
    "#### Gráfico de densidad de la temperatura media"
   ]
  },
  {
   "cell_type": "code",
   "execution_count": 46,
   "metadata": {},
   "outputs": [
    {
     "data": {
      "text/plain": [
       "<matplotlib.legend.Legend at 0x1b24720cd60>"
      ]
     },
     "execution_count": 46,
     "metadata": {},
     "output_type": "execute_result"
    },
    {
     "data": {
      "image/png": "[encoded data removed]",
      "text/plain": [
       "<Figure size 1008x432 with 1 Axes>"
      ]
     },
     "metadata": {},
     "output_type": "display_data"
    }
   ],
   "source": [
    "# grafico de densidad de la temperatura mínima\n",
    "dens_fig = data[\"tmed\"].plot(kind='density', figsize=(14,6), title='Densidad de la temperatura media')\n",
    "dens_fig.axvline(data[\"tmed\"].mean(), color='red')\n",
    "dens_fig.axvline(data[\"tmed\"].median(), color='green')\n",
    "dens_fig.axvline(data[\"tmed\"].min(), color='yellow')\n",
    "dens_fig.axvline(data[\"tmed\"].max(), color='orange')\n",
    "dens_fig.legend(['Densidad', 'Media', 'Mediana', 'Mínimo', 'Máximo'])"
   ]
  },
  {
   "cell_type": "code",
   "execution_count": 43,
   "metadata": {},
   "outputs": [
    {
     "data": {
      "text/plain": [
       "0    25.5\n",
       "dtype: float64"
      ]
     },
     "execution_count": 43,
     "metadata": {},
     "output_type": "execute_result"
    }
   ],
   "source": [
    "data[\"tmed\"].mode()"
   ]
  },
  {
   "cell_type": "markdown",
   "metadata": {},
   "source": [
    "#### Medidas de localización y tendencia de la precipitación"
   ]
  },
  {
   "cell_type": "code",
   "execution_count": 33,
   "metadata": {},
   "outputs": [
    {
     "data": {
      "text/plain": [
       "<AxesSubplot:title={'center':'BoxPlot de Precipitación'}>"
      ]
     },
     "execution_count": 33,
     "metadata": {},
     "output_type": "execute_result"
    },
    {
     "data": {
      "image/png": "[encoded data removed]",
      "text/plain": [
       "<Figure size 1152x432 with 1 Axes>"
      ]
     },
     "metadata": {
      "needs_background": "light"
     },
     "output_type": "display_data"
    }
   ],
   "source": [
    "data[\"prcp\"].plot(kind='box', vert=False, figsize=(16,6), title='BoxPlot de Precipitación')"
   ]
  },
  {
   "cell_type": "markdown",
   "metadata": {},
   "source": [
    "Se realizará el agrupamiento de los datos por estación en operaciones futuras para una mayor representatividad de los datos."
   ]
  },
  {
   "cell_type": "markdown",
   "metadata": {},
   "source": [
    "#### Gráfico de densidad de la precipitación"
   ]
  },
  {
   "cell_type": "code",
   "execution_count": 42,
   "metadata": {},
   "outputs": [
    {
     "data": {
      "text/plain": [
       "(0.0, 268.0)"
      ]
     },
     "execution_count": 42,
     "metadata": {},
     "output_type": "execute_result"
    },
    {
     "data": {
      "image/png": "[encoded data removed]",
      "text/plain": [
       "<Figure size 1008x288 with 1 Axes>"
      ]
     },
     "metadata": {
      "needs_background": "light"
     },
     "output_type": "display_data"
    }
   ],
   "source": [
    "# grafico de densidad de la temperatura mínima\n",
    "dens_fig = data[\"prcp\"].plot(kind='density', figsize=(14,4), title='Densidad de la precipitación')\n",
    "dens_fig.set_xlim([0, data[\"prcp\"].max()])\n",
    "#dens_fig.axvline(data[\"prcp\"].mean(), color='red')\n",
    "#dens_fig.axvline(data[\"prcp\"].median(), color='green')\n",
    "#dens_fig.axvline(data[\"prcp\"].min(), color='yellow')\n",
    "#dens_fig.axvline(data[\"prcp\"].max(), color='orange')\n",
    "#dens_fig.legend(['Densidad', 'Media', 'Mediana', 'Mínimo', 'Máximo'])"
   ]
  },
  {
   "cell_type": "code",
   "execution_count": 37,
   "metadata": {},
   "outputs": [
    {
     "name": "stdout",
     "output_type": "stream",
     "text": [
      "4.016828089342277\n",
      "12.502003077404439\n",
      "0.0\n",
      "0    0.0\n",
      "dtype: float64\n"
     ]
    }
   ],
   "source": [
    "print(data[\"prcp\"].mean())\n",
    "print(data[\"prcp\"].std())\n",
    "print(data[\"prcp\"].median())\n",
    "print(data[\"prcp\"].mode())"
   ]
  },
  {
   "cell_type": "code",
   "execution_count": null,
   "metadata": {},
   "outputs": [],
   "source": []
  },
  {
   "cell_type": "markdown",
   "metadata": {},
   "source": [
    "#### Un conjunto de datos importantes sería la antiguedad cada una de las estaciones. El cual podemos calcular de la siguiente manera:"
   ]
  },
  {
   "cell_type": "code",
   "execution_count": 6,
   "metadata": {},
   "outputs": [
    {
     "data": {
      "text/plain": [
       "86233    21915\n",
       "86068    21915\n",
       "86297    21915\n",
       "86218    21915\n",
       "86260    21915\n",
       "86255    21915\n",
       "86134    21915\n",
       "86086    21915\n",
       "86097    21915\n",
       "86033    19182\n",
       "Name: omm_id, dtype: int64"
      ]
     },
     "execution_count": 6,
     "metadata": {},
     "output_type": "execute_result"
    }
   ],
   "source": [
    "med_por_estacion = data[\"omm_id\"].value_counts()\n",
    "med_por_estacion.head(10)"
   ]
  },
  {
   "cell_type": "code",
   "execution_count": null,
   "metadata": {},
   "outputs": [],
   "source": []
  },
  {
   "cell_type": "markdown",
   "metadata": {},
   "source": [
    "## Antiguedad de las estaciones (en días)"
   ]
  },
  {
   "cell_type": "code",
   "execution_count": 32,
   "metadata": {},
   "outputs": [
    {
     "data": {
      "image/png": "[encoded data removed]",
      "text/plain": [
       "<Figure size 936x576 with 1 Axes>"
      ]
     },
     "metadata": {
      "needs_background": "light"
     },
     "output_type": "display_data"
    }
   ],
   "source": [
    "plt.figure(figsize=(13,8))\n",
    "mediciones_estacion = med_por_estacion.plot.bar()\n",
    "plt.show()"
   ]
  }
 ],
 "metadata": {
  "kernelspec": {
   "display_name": "Python 3",
   "language": "python",
   "name": "python3"
  },
  "language_info": {
   "codemirror_mode": {
    "name": "ipython",
    "version": 3
   },
   "file_extension": ".py",
   "mimetype": "text/x-python",
   "name": "python",
   "nbconvert_exporter": "python",
   "pygments_lexer": "ipython3",
   "version": "3.8.5"
  }
 },
 "nbformat": 4,
 "nbformat_minor": 4
}
